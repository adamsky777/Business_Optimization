{
 "cells": [
  {
   "cell_type": "markdown",
   "source": [],
   "metadata": {
    "collapsed": false
   },
   "id": "137ebf2601c5f04c"
  },
  {
   "cell_type": "markdown",
   "source": [
    "#### Simple Problem CP"
   ],
   "metadata": {
    "collapsed": false
   },
   "id": "928b3d1ce0cf7898"
  },
  {
   "cell_type": "markdown",
   "source": [
    "**The demand for ethanol is 500,000 liters**\n",
    "**From sugar cane, Machine 1 can produce 20,000 liters of ethanol per hour with the operation costs of $50** "
   ],
   "metadata": {
    "collapsed": false
   },
   "id": "913fddc654a7c317"
  },
  {
   "cell_type": "markdown",
   "source": [
    "**Machine 2 has the capacity of 12,000 liters per hour with the cost of $30**  \n",
    "**What would be the optimal amount to produce on each machine?** "
   ],
   "metadata": {
    "collapsed": false
   },
   "id": "5fa789ba8fa1250b"
  },
  {
   "cell_type": "code",
   "execution_count": 4,
   "outputs": [
    {
     "name": "stdout",
     "output_type": "stream",
     "text": [
      "Set parameter Username\n",
      "Academic license - for non-commercial use only - expires 2025-01-24\n",
      "Read LP format model from file /var/folders/qq/hbgm8vpn1j34zmys4f95ttgm0000gp/T/tmpvtbvj4r2.pyomo.lp\n",
      "Reading time = 0.00 seconds\n",
      "x3: 2 rows, 3 columns, 3 nonzeros\n",
      "Gurobi Optimizer version 11.0.0 build v11.0.0rc2 (mac64[rosetta2] - Darwin 23.3.0 23D56)\n",
      "\n",
      "CPU model: Apple M1\n",
      "Thread count: 8 physical cores, 8 logical processors, using up to 8 threads\n",
      "\n",
      "Optimize a model with 2 rows, 3 columns and 3 nonzeros\n",
      "Model fingerprint: 0x142c3ad8\n",
      "Coefficient statistics:\n",
      "  Matrix range     [1e+00, 2e+01]\n",
      "  Objective range  [3e+01, 5e+01]\n",
      "  Bounds range     [0e+00, 0e+00]\n",
      "  RHS range        [1e+00, 5e+02]\n",
      "Presolve removed 2 rows and 3 columns\n",
      "Presolve time: 0.00s\n",
      "Presolve: All rows and columns removed\n",
      "Iteration    Objective       Primal Inf.    Dual Inf.      Time\n",
      "       0    1.2500000e+03   0.000000e+00   0.000000e+00      0s\n",
      "\n",
      "Solved in 0 iterations and 0.01 seconds (0.00 work units)\n",
      "Optimal objective  1.250000000e+03\n"
     ]
    }
   ],
   "source": [
    "from pyomo.environ import *\n",
    "from pyomo.opt import SolverFactory\n",
    "\n",
    "# Create a Pyomo model for Constraint Programming\n",
    "model = ConcreteModel()\n",
    "\n",
    "# Define decision variables\n",
    "model.x = Var(within=PositiveReals)\n",
    "model.y = Var(within=PositiveReals)\n",
    "\n",
    "D = 500\n",
    "M1_hourly_cost = 50\n",
    "M2_hourly_cost = 30\n",
    "M1_hourly_cap = 20\n",
    "M2_hourly_cap = 12\n",
    "\n",
    "# Define the objective function (minimize the sum of x and y)\n",
    "model.obj = Objective(expr=(model.x * M1_hourly_cost) + (model.y * M2_hourly_cost), sense=minimize)\n",
    "\n",
    "# Define constraints\n",
    "model.constraint1 = Constraint(expr=((model.x * M1_hourly_cap) + (model.y * M2_hourly_cap)) >= D)\n",
    "\n",
    "# Create a Gurobi solver instance\n",
    "solver = SolverFactory('gurobi')\n",
    "\n",
    "# Solve the CP problem\n",
    "results = solver.solve(model, tee=True)"
   ],
   "metadata": {
    "collapsed": false,
    "ExecuteTime": {
     "end_time": "2024-01-25T15:44:30.412706Z",
     "start_time": "2024-01-25T15:44:30.164433Z"
    }
   },
   "id": "351aee97310e782f"
  },
  {
   "cell_type": "code",
   "execution_count": 5,
   "outputs": [
    {
     "name": "stdout",
     "output_type": "stream",
     "text": [
      "x = 25.0\n",
      "y = 0.0\n",
      "Objective Function Value = 1250.0\n"
     ]
    }
   ],
   "source": [
    "print(f\"x = {value(model.x)}\")\n",
    "print(f\"y = {value(model.y)}\")\n",
    "print(f\"Objective Function Value = {value(model.obj)}\")"
   ],
   "metadata": {
    "collapsed": false,
    "ExecuteTime": {
     "end_time": "2024-01-25T15:44:31.126465Z",
     "start_time": "2024-01-25T15:44:31.123117Z"
    }
   },
   "id": "3f330d1b80bde211"
  },
  {
   "cell_type": "code",
   "execution_count": 16,
   "outputs": [],
   "source": [
    "!pip freeze | grep -E -i 'pyomo|pandas' > requirements.txt"
   ],
   "metadata": {
    "collapsed": false,
    "ExecuteTime": {
     "end_time": "2024-01-25T15:50:09.548777Z",
     "start_time": "2024-01-25T15:50:09.008884Z"
    }
   },
   "id": "cfc5215db11e1734"
  }
 ],
 "metadata": {
  "kernelspec": {
   "display_name": "Python 3",
   "language": "python",
   "name": "python3"
  },
  "language_info": {
   "codemirror_mode": {
    "name": "ipython",
    "version": 2
   },
   "file_extension": ".py",
   "mimetype": "text/x-python",
   "name": "python",
   "nbconvert_exporter": "python",
   "pygments_lexer": "ipython2",
   "version": "2.7.6"
  }
 },
 "nbformat": 4,
 "nbformat_minor": 5
}
