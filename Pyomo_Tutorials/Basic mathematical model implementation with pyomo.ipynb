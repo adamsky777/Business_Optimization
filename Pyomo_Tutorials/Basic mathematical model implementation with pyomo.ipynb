{
 "cells": [
  {
   "cell_type": "markdown",
   "source": [
    "### Implementation of a Basic Mathematical optimization model in Pyomo.\n",
    "**Problem from Lecture 1 Problem 2 Pyomo Model**\n",
    "<img alt=\"MathModel\" height=\"300\" src=\"https://raw.githubusercontent.com/adamsky777/Business_Optimization/main/Pyomo_Tutorials/Assets/Problem1_Basic_math_model.png\" width=\"900\"/>"
   ],
   "metadata": {
    "collapsed": false
   },
   "id": "357f3cd6d398a483"
  },
  {
   "cell_type": "code",
   "execution_count": 25,
   "id": "initial_id",
   "metadata": {
    "collapsed": true,
    "ExecuteTime": {
     "end_time": "2024-04-01T17:33:54.594065Z",
     "start_time": "2024-04-01T17:33:54.584831Z"
    }
   },
   "outputs": [],
   "source": [
    "from pyomo.environ import *"
   ]
  },
  {
   "cell_type": "code",
   "outputs": [
    {
     "name": "stdout",
     "output_type": "stream",
     "text": [
      "Set parameter Username\n",
      "Academic license - for non-commercial use only - expires 2025-02-27\n",
      "Read LP format model from file /var/folders/gm/0mysqz9j6nn1s4t20cpp9kcr0000gn/T/tmpgkx421ts.pyomo.lp\n",
      "Reading time = 0.00 seconds\n",
      "x1: 3 rows, 2 columns, 4 nonzeros\n",
      "Gurobi Optimizer version 11.0.1 build v11.0.1rc0 (mac64[arm] - Darwin 23.4.0 23E214)\n",
      "\n",
      "CPU model: Apple M1\n",
      "Thread count: 8 physical cores, 8 logical processors, using up to 8 threads\n",
      "\n",
      "Optimize a model with 3 rows, 2 columns and 4 nonzeros\n",
      "Model fingerprint: 0xff1f6b8d\n",
      "Coefficient statistics:\n",
      "  Matrix range     [1e+00, 5e+00]\n",
      "  Objective range  [2e+02, 3e+02]\n",
      "  Bounds range     [0e+00, 0e+00]\n",
      "  RHS range        [1e+02, 8e+02]\n",
      "Presolve removed 2 rows and 0 columns\n",
      "Presolve time: 0.00s\n",
      "Presolved: 1 rows, 2 columns, 2 nonzeros\n",
      "\n",
      "Iteration    Objective       Primal Inf.    Dual Inf.      Time\n",
      "       0    6.2500000e+04   1.250000e+01   0.000000e+00      0s\n",
      "       1    5.9000000e+04   0.000000e+00   0.000000e+00      0s\n",
      "\n",
      "Solved in 1 iterations and 0.01 seconds (0.00 work units)\n",
      "Optimal objective  5.900000000e+04\n"
     ]
    }
   ],
   "source": [
    "# Parameters\n",
    "p_1, p_2 = 500, 400\n",
    "c_1, c_2 = 200, 150\n",
    "a_1, a_2 = 5, 3\n",
    "m_1, m_2 = 120, 200\n",
    "b = 750\n",
    "\n",
    "model = ConcreteModel()\n",
    "\n",
    "# Decision Vars:\n",
    "model.x_1 = Var(domain=NonNegativeReals)\n",
    "model.x_2 = Var(domain=NonNegativeReals)\n",
    "\n",
    "# Obj Function:\n",
    "model.profit = Objective(expr=(p_1-c_1) * model.x_1 + (p_2-c_2) * model.x_2, sense=maximize)\n",
    "\n",
    "# Constraints:\n",
    "model.capacity_cons = Constraint(expr=a_1 * model.x_1 + a_2 * model.x_2 <= b)\n",
    "model.max_sales1 = Constraint(expr=model.x_1 <= m_1)\n",
    "model.max_sales2 = Constraint(expr=model.x_2 <= m_2)\n",
    "\n",
    "# Activate Solver\n",
    "try:\n",
    "    opt = SolverFactory('gurobi')\n",
    "    result_obj = opt.solve(model, tee=True)\n",
    "except RuntimeError as err:\n",
    "    print(err)"
   ],
   "metadata": {
    "collapsed": false,
    "ExecuteTime": {
     "end_time": "2024-04-01T17:33:54.982379Z",
     "start_time": "2024-04-01T17:33:54.861128Z"
    }
   },
   "id": "c2d855fa25165aa9",
   "execution_count": 26
  },
  {
   "cell_type": "markdown",
   "source": [
    "To print out Mathematical model for debugging purposes, we can use the following command:\n",
    "It shows the components of the Math. Model.\n",
    "As an example:\n",
    "two decision variables: X1 and X2,\n",
    "Lowe and Upper are represent the bounds for the decision variable, since NonNegativeReals specified undear Domain we don't need to implement non-negativity constraints. "
   ],
   "metadata": {
    "collapsed": false
   },
   "id": "3cd4b86a2a3c24c9"
  },
  {
   "cell_type": "code",
   "outputs": [
    {
     "name": "stdout",
     "output_type": "stream",
     "text": [
      "2 Var Declarations\n",
      "    x_1 : Size=1, Index=None\n",
      "        Key  : Lower : Value : Upper : Fixed : Stale : Domain\n",
      "        None :     0 :  30.0 :  None : False : False : NonNegativeReals\n",
      "    x_2 : Size=1, Index=None\n",
      "        Key  : Lower : Value : Upper : Fixed : Stale : Domain\n",
      "        None :     0 : 200.0 :  None : False : False : NonNegativeReals\n",
      "\n",
      "1 Objective Declarations\n",
      "    profit : Size=1, Index=None, Active=True\n",
      "        Key  : Active : Sense    : Expression\n",
      "        None :   True : maximize : 300*x_1 + 250*x_2\n",
      "\n",
      "3 Constraint Declarations\n",
      "    capacity_cons : Size=1, Index=None, Active=True\n",
      "        Key  : Lower : Body          : Upper : Active\n",
      "        None :  -Inf : 5*x_1 + 3*x_2 : 750.0 :   True\n",
      "    max_sales1 : Size=1, Index=None, Active=True\n",
      "        Key  : Lower : Body : Upper : Active\n",
      "        None :  -Inf :  x_1 : 120.0 :   True\n",
      "    max_sales2 : Size=1, Index=None, Active=True\n",
      "        Key  : Lower : Body : Upper : Active\n",
      "        None :  -Inf :  x_2 : 200.0 :   True\n",
      "\n",
      "6 Declarations: x_1 x_2 profit capacity_cons max_sales1 max_sales2\n"
     ]
    }
   ],
   "source": [
    "model.pprint()"
   ],
   "metadata": {
    "collapsed": false,
    "ExecuteTime": {
     "end_time": "2024-04-01T17:33:55.550491Z",
     "start_time": "2024-04-01T17:33:55.546742Z"
    }
   },
   "id": "65ebcfe3f3e0ecde",
   "execution_count": 27
  },
  {
   "cell_type": "markdown",
   "source": [
    "To print out actual values, it is possible to print out with the following function"
   ],
   "metadata": {
    "collapsed": false
   },
   "id": "621a262afff3f99e"
  },
  {
   "cell_type": "code",
   "outputs": [
    {
     "name": "stdout",
     "output_type": "stream",
     "text": [
      "Model unknown\n",
      "\n",
      "  Variables:\n",
      "    x_1 : Size=1, Index=None\n",
      "        Key  : Lower : Value : Upper : Fixed : Stale : Domain\n",
      "        None :     0 :  30.0 :  None : False : False : NonNegativeReals\n",
      "    x_2 : Size=1, Index=None\n",
      "        Key  : Lower : Value : Upper : Fixed : Stale : Domain\n",
      "        None :     0 : 200.0 :  None : False : False : NonNegativeReals\n",
      "\n",
      "  Objectives:\n",
      "    profit : Size=1, Index=None, Active=True\n",
      "        Key  : Active : Value\n",
      "        None :   True : 59000.0\n",
      "\n",
      "  Constraints:\n",
      "    capacity_cons : Size=1\n",
      "        Key  : Lower : Body  : Upper\n",
      "        None :  None : 750.0 : 750.0\n",
      "    max_sales1 : Size=1\n",
      "        Key  : Lower : Body : Upper\n",
      "        None :  None : 30.0 : 120.0\n",
      "    max_sales2 : Size=1\n",
      "        Key  : Lower : Body  : Upper\n",
      "        None :  None : 200.0 : 200.0\n"
     ]
    }
   ],
   "source": [
    "model.display()"
   ],
   "metadata": {
    "collapsed": false,
    "ExecuteTime": {
     "end_time": "2024-04-01T17:33:56.473884Z",
     "start_time": "2024-04-01T17:33:56.470846Z"
    }
   },
   "id": "8044644b8aad70b3",
   "execution_count": 28
  },
  {
   "cell_type": "code",
   "outputs": [
    {
     "name": "stdout",
     "output_type": "stream",
     "text": [
      "Quantity to produce of X1: 30.0\n",
      "Quantity to produce of X2: 200.0\n",
      "Profit: $59000.0\n"
     ]
    }
   ],
   "source": [
    "# Print out Solution:\n",
    "print(f\"Quantity to produce of X1: {model.x_1()}\")\n",
    "print(f\"Quantity to produce of X2: {model.x_2()}\")\n",
    "print(f\"Profit: ${model.profit()}\")"
   ],
   "metadata": {
    "collapsed": false,
    "ExecuteTime": {
     "end_time": "2024-04-01T17:33:56.732210Z",
     "start_time": "2024-04-01T17:33:56.728197Z"
    }
   },
   "id": "b96097f6c31638f0",
   "execution_count": 29
  },
  {
   "cell_type": "code",
   "outputs": [],
   "source": [],
   "metadata": {
    "collapsed": false,
    "ExecuteTime": {
     "end_time": "2024-04-01T17:33:57.036336Z",
     "start_time": "2024-04-01T17:33:57.033532Z"
    }
   },
   "id": "cada2a2cc2225687",
   "execution_count": 29
  },
  {
   "cell_type": "code",
   "outputs": [],
   "source": [],
   "metadata": {
    "collapsed": false
   },
   "id": "d43ed266ddbdf437"
  }
 ],
 "metadata": {
  "kernelspec": {
   "display_name": "Python 3",
   "language": "python",
   "name": "python3"
  },
  "language_info": {
   "codemirror_mode": {
    "name": "ipython",
    "version": 2
   },
   "file_extension": ".py",
   "mimetype": "text/x-python",
   "name": "python",
   "nbconvert_exporter": "python",
   "pygments_lexer": "ipython2",
   "version": "2.7.6"
  }
 },
 "nbformat": 4,
 "nbformat_minor": 5
}
