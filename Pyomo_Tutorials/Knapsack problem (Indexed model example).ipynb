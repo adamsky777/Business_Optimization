{
 "cells": [
  {
   "cell_type": "markdown",
   "source": [
    "### Knapsack problem example\n",
    "<img alt=\"Knapsack Problem\" height=\"450\" src=\"https://raw.githubusercontent.com/adamsky777/Business_Optimization/main/Pyomo_Tutorials/Assets/Knapsack%20Probblem.png\" width=\"900\"/>"
   ],
   "metadata": {
    "collapsed": false
   },
   "id": "342c4eb81ed41cce"
  },
  {
   "cell_type": "code",
   "execution_count": 43,
   "id": "initial_id",
   "metadata": {
    "collapsed": true,
    "ExecuteTime": {
     "end_time": "2024-04-01T17:32:40.821165Z",
     "start_time": "2024-04-01T17:32:40.809962Z"
    }
   },
   "outputs": [],
   "source": [
    "from pyomo.environ import *"
   ]
  },
  {
   "cell_type": "code",
   "outputs": [],
   "source": [
    "# 3 decision variables, (List of binary decision variables X1,X2,X3) \n",
    "products = ['Product 1', 'Product 2', 'Product 3', 'Product 4', 'Product 5']\n",
    "\n",
    "sales_price = {\n",
    "    'Product 1' : 18,\n",
    "    'Product 2' : 32,\n",
    "    'Product 3' : 25,\n",
    "    'Product 4' : 24,\n",
    "    'Product 5' : 26\n",
    "}\n",
    "variable_cost = {\n",
    "    'Product 1' : 8,\n",
    "    'Product 2' : 9,\n",
    "    'Product 3' : 9,\n",
    "    'Product 4' : 10,\n",
    "    'Product 5' : 13\n",
    "}\n",
    "hours_per_unit = {\n",
    "    'Product 1' : 0.3,\n",
    "    'Product 2' : 0.7,\n",
    "    'Product 3' : 0.5,\n",
    "    'Product 4' : 0.4,\n",
    "    'Product 5' : 0.4\n",
    "}\n",
    "demand = {\n",
    "    'Product 1' : 650,\n",
    "    'Product 2' : 600,\n",
    "    'Product 3' : 500,\n",
    "    'Product 4' : 1000,\n",
    "    'Product 5' : 800\n",
    "}\n",
    "capacity = 700"
   ],
   "metadata": {
    "collapsed": false,
    "ExecuteTime": {
     "end_time": "2024-04-01T14:23:45.489532Z",
     "start_time": "2024-04-01T14:23:45.486282Z"
    }
   },
   "id": "561a1be0310587d2",
   "execution_count": 25
  },
  {
   "cell_type": "code",
   "outputs": [],
   "source": [
    "model = ConcreteModel()\n",
    "# Add Indexed Decision variables to the model:\n",
    "model.produce = Var(products, domain=NonNegativeReals)\n",
    "# Definition of the objective function:\n",
    "\n",
    "model.profit = Objective(expr=sum((sales_price[product] - variable_cost[product]) * model.produce[product] for product in products), sense=maximize)\n",
    "\n",
    "def capacity_cons(model):\n",
    "    return sum(hours_per_unit[product] * model.produce[product] for product in products) <= capacity\n",
    "model.capacity_cons = Constraint(rule=capacity_cons)\n",
    "\n",
    "\n",
    "def demand_cons(model, product):\n",
    "    return model.produce[product] <= demand[product]\n",
    "model.demand_cons = Constraint(products, rule=demand_cons)"
   ],
   "metadata": {
    "collapsed": false,
    "ExecuteTime": {
     "end_time": "2024-04-01T14:24:22.133092Z",
     "start_time": "2024-04-01T14:24:22.124543Z"
    }
   },
   "id": "17f9b727d236745a",
   "execution_count": 27
  },
  {
   "cell_type": "code",
   "outputs": [],
   "source": [
    "solver = SolverFactory('gurobi')\n",
    "result = solver.solve(model)"
   ],
   "metadata": {
    "collapsed": false,
    "ExecuteTime": {
     "end_time": "2024-04-01T14:24:22.883033Z",
     "start_time": "2024-04-01T14:24:22.793725Z"
    }
   },
   "id": "ab72596f120b4345",
   "execution_count": 28
  },
  {
   "cell_type": "code",
   "outputs": [
    {
     "name": "stdout",
     "output_type": "stream",
     "text": [
      "Model unknown\n",
      "\n",
      "  Variables:\n",
      "    produce : Size=5, Index=produce_index\n",
      "        Key       : Lower : Value              : Upper : Fixed : Stale : Domain\n",
      "        Product 1 :     0 :              650.0 :  None : False : False : NonNegativeReals\n",
      "        Product 2 :     0 : 150.00000000000003 :  None : False : False : NonNegativeReals\n",
      "        Product 3 :     0 :                0.0 :  None : False : False : NonNegativeReals\n",
      "        Product 4 :     0 :             1000.0 :  None : False : False : NonNegativeReals\n",
      "        Product 5 :     0 :                0.0 :  None : False : False : NonNegativeReals\n",
      "\n",
      "  Objectives:\n",
      "    profit : Size=1, Index=None, Active=True\n",
      "        Key  : Active : Value\n",
      "        None :   True : 23950.0\n",
      "\n",
      "  Constraints:\n",
      "    capacity_cons : Size=1\n",
      "        Key  : Lower : Body  : Upper\n",
      "        None :  None : 700.0 : 700.0\n",
      "    demand_cons : Size=5\n",
      "        Key       : Lower : Body               : Upper\n",
      "        Product 1 :  None :              650.0 :  650.0\n",
      "        Product 2 :  None : 150.00000000000003 :  600.0\n",
      "        Product 3 :  None :                0.0 :  500.0\n",
      "        Product 4 :  None :             1000.0 : 1000.0\n",
      "        Product 5 :  None :                0.0 :  800.0\n"
     ]
    }
   ],
   "source": [
    "model.display()"
   ],
   "metadata": {
    "collapsed": false,
    "ExecuteTime": {
     "end_time": "2024-04-01T14:24:44.971357Z",
     "start_time": "2024-04-01T14:24:44.967129Z"
    }
   },
   "id": "49ec41ca3e2ae2d7",
   "execution_count": 31
  },
  {
   "cell_type": "code",
   "outputs": [
    {
     "name": "stdout",
     "output_type": "stream",
     "text": [
      "Produce 650.0 of Product 1\n",
      "Produce 150.0 of Product 2\n",
      "Produce 0.0 of Product 3\n",
      "Produce 1000.0 of Product 4\n",
      "Produce 0.0 of Product 5\n",
      "Total Profit: $23950.0\n"
     ]
    }
   ],
   "source": [
    "for product in products:\n",
    "    print(f\"Produce {round(model.produce[product](),1)} of {product}\")\n",
    "print(f\"Total Profit: ${model.profit()}\")"
   ],
   "metadata": {
    "collapsed": false,
    "ExecuteTime": {
     "end_time": "2024-04-01T14:29:12.894126Z",
     "start_time": "2024-04-01T14:29:12.889891Z"
    }
   },
   "id": "b71b2678043a3341",
   "execution_count": 42
  }
 ],
 "metadata": {
  "kernelspec": {
   "display_name": "Python 3",
   "language": "python",
   "name": "python3"
  },
  "language_info": {
   "codemirror_mode": {
    "name": "ipython",
    "version": 2
   },
   "file_extension": ".py",
   "mimetype": "text/x-python",
   "name": "python",
   "nbconvert_exporter": "python",
   "pygments_lexer": "ipython2",
   "version": "2.7.6"
  }
 },
 "nbformat": 4,
 "nbformat_minor": 5
}
