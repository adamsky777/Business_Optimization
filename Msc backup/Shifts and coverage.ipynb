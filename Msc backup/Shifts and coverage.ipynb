{
 "cells": [
  {
   "cell_type": "markdown",
   "source": [
    "### Shift Coverage example by Karim"
   ],
   "metadata": {
    "collapsed": false
   }
  },
  {
   "cell_type": "code",
   "execution_count": 54,
   "metadata": {
    "ExecuteTime": {
     "end_time": "2024-04-04T15:13:38.985284Z",
     "start_time": "2024-04-04T15:13:38.978569Z"
    }
   },
   "outputs": [],
   "source": [
    "period_length = 60\n",
    "day_length = 24 * 60 // period_length\n",
    "\n",
    "earliest_start = 7 * 60 // period_length\n",
    "\n",
    "minimum_duration = 6 * 60 // period_length\n",
    "maximum_duration = 10 * 60 // period_length"
   ]
  },
  {
   "cell_type": "code",
   "execution_count": 33,
   "metadata": {
    "ExecuteTime": {
     "end_time": "2024-04-04T12:31:43.195115Z",
     "start_time": "2024-04-04T12:31:43.190728Z"
    }
   },
   "outputs": [],
   "source": [
    "shifts = []\n",
    "for day_period in range(earliest_start, day_length):\n",
    "    for duration in range(minimum_duration, maximum_duration):\n",
    "        shifts.append((day_period, duration))\n",
    "        \n",
    "for duration in range(minimum_duration, maximum_duration):\n",
    "        shifts.append((0, duration)) "
   ]
  },
  {
   "cell_type": "code",
   "execution_count": 34,
   "metadata": {
    "ExecuteTime": {
     "end_time": "2024-04-04T12:31:43.597306Z",
     "start_time": "2024-04-04T12:31:43.592811Z"
    }
   },
   "outputs": [
    {
     "data": {
      "text/plain": "[(7, 6),\n (7, 7),\n (7, 8),\n (7, 9),\n (8, 6),\n (8, 7),\n (8, 8),\n (8, 9),\n (9, 6),\n (9, 7),\n (9, 8),\n (9, 9),\n (10, 6),\n (10, 7),\n (10, 8),\n (10, 9),\n (11, 6),\n (11, 7),\n (11, 8),\n (11, 9),\n (12, 6),\n (12, 7),\n (12, 8),\n (12, 9),\n (13, 6),\n (13, 7),\n (13, 8),\n (13, 9),\n (14, 6),\n (14, 7),\n (14, 8),\n (14, 9),\n (15, 6),\n (15, 7),\n (15, 8),\n (15, 9),\n (16, 6),\n (16, 7),\n (16, 8),\n (16, 9),\n (17, 6),\n (17, 7),\n (17, 8),\n (17, 9),\n (18, 6),\n (18, 7),\n (18, 8),\n (18, 9),\n (19, 6),\n (19, 7),\n (19, 8),\n (19, 9),\n (20, 6),\n (20, 7),\n (20, 8),\n (20, 9),\n (21, 6),\n (21, 7),\n (21, 8),\n (21, 9),\n (22, 6),\n (22, 7),\n (22, 8),\n (22, 9),\n (23, 6),\n (23, 7),\n (23, 8),\n (23, 9),\n (0, 6),\n (0, 7),\n (0, 8),\n (0, 9)]"
     },
     "execution_count": 34,
     "metadata": {},
     "output_type": "execute_result"
    }
   ],
   "source": [
    "shifts"
   ]
  },
  {
   "cell_type": "code",
   "execution_count": 97,
   "metadata": {
    "ExecuteTime": {
     "end_time": "2024-04-04T13:37:11.769895Z",
     "start_time": "2024-04-04T13:37:11.765208Z"
    }
   },
   "outputs": [],
   "source": [
    "def is_shift_covering_period(shift, period):\n",
    "\n",
    "    intervals = [(shift[0], min(shift[0] + shift[1], day_length) )]\n",
    "    \n",
    "    if shift[0] + shift[1] >= day_length:\n",
    "        intervals.append((0, shift[0] + shift[1] - day_length))\n",
    "        \n",
    "    for interval in intervals:\n",
    "        if period >= interval[0] and period < interval[1]:\n",
    "            return True, intervals\n",
    "        \n",
    "    return False, intervals"
   ]
  },
  {
   "cell_type": "code",
   "execution_count": 120,
   "metadata": {
    "ExecuteTime": {
     "end_time": "2024-04-04T14:26:38.692775Z",
     "start_time": "2024-04-04T14:26:38.687385Z"
    }
   },
   "outputs": [
    {
     "data": {
      "text/plain": "(False, [(9, 17)])"
     },
     "execution_count": 120,
     "metadata": {},
     "output_type": "execute_result"
    }
   ],
   "source": [
    "is_shift_covering_period((9, 8), 17)"
   ]
  },
  {
   "cell_type": "code",
   "outputs": [
    {
     "data": {
      "text/plain": "[(23, 24)]"
     },
     "execution_count": 110,
     "metadata": {},
     "output_type": "execute_result"
    }
   ],
   "source": [
    "intervals = [(23, min(23 + 4, 24))]\n",
    "intervals"
   ],
   "metadata": {
    "collapsed": false,
    "ExecuteTime": {
     "end_time": "2024-04-04T13:52:56.401677Z",
     "start_time": "2024-04-04T13:52:56.395925Z"
    }
   },
   "execution_count": 110
  },
  {
   "cell_type": "code",
   "outputs": [
    {
     "name": "stdout",
     "output_type": "stream",
     "text": [
      "(23, 24)\n"
     ]
    }
   ],
   "source": [
    "for i in intervals:\n",
    "    print(i)"
   ],
   "metadata": {
    "collapsed": false,
    "ExecuteTime": {
     "end_time": "2024-04-04T14:33:37.282290Z",
     "start_time": "2024-04-04T14:33:37.280322Z"
    }
   },
   "execution_count": 122
  },
  {
   "cell_type": "code",
   "outputs": [
    {
     "data": {
      "text/plain": "True"
     },
     "execution_count": 53,
     "metadata": {},
     "output_type": "execute_result"
    }
   ],
   "source": [
    "def create_shifts(period_length):\n",
    "    day_length = 24 * 60 // period_length\n",
    "    earliest_start = 7 * 60 // period_length\n",
    "    minimum_duration = 6 * 60  // period_length\n",
    "    maximum_duration = 10 * 60 // period_length\n",
    "    shifts = []\n",
    "    for day_period in range(earliest_start, day_length):\n",
    "        for duration in range(minimum_duration, maximum_duration):\n",
    "            shifts.append((day_period, duration))\n",
    "            \n",
    "    for duration in range(minimum_duration, maximum_duration):\n",
    "            shifts.append((0, duration))\n",
    "            \n",
    "    return shifts\n",
    "\n",
    "def is_shift_covering_period(shift, period, day_length):\n",
    "    intervals = [(shift[0], min(shift[0] + shift[1], day_length) )]\n",
    "    \n",
    "    if shift[0] + shift[1] >= day_length:\n",
    "        intervals.append((0, shift[0] + shift[1] - day_length))\n",
    "        \n",
    "    for interval in intervals:\n",
    "        if period >= interval[0] and period < interval[1]:\n",
    "            return True\n",
    "        \n",
    "    return False\n",
    "\n",
    "shifts=create_shifts(15)\n",
    "is_shift_covering_period((23,8),30,len(shifts))\n"
   ],
   "metadata": {
    "collapsed": false,
    "ExecuteTime": {
     "end_time": "2024-04-04T15:01:49.127325Z",
     "start_time": "2024-04-04T15:01:49.118625Z"
    }
   },
   "execution_count": 53
  },
  {
   "cell_type": "code",
   "outputs": [],
   "source": [
    "\n",
    "    "
   ],
   "metadata": {
    "collapsed": false,
    "ExecuteTime": {
     "end_time": "2024-04-04T14:54:16.473931Z",
     "start_time": "2024-04-04T14:54:16.468866Z"
    }
   },
   "execution_count": 10
  },
  {
   "cell_type": "code",
   "outputs": [
    {
     "data": {
      "text/plain": "[(14, 12),\n (14, 13),\n (14, 14),\n (14, 15),\n (14, 16),\n (14, 17),\n (14, 18),\n (14, 19),\n (15, 12),\n (15, 13),\n (15, 14),\n (15, 15),\n (15, 16),\n (15, 17),\n (15, 18),\n (15, 19),\n (16, 12),\n (16, 13),\n (16, 14),\n (16, 15),\n (16, 16),\n (16, 17),\n (16, 18),\n (16, 19),\n (17, 12),\n (17, 13),\n (17, 14),\n (17, 15),\n (17, 16),\n (17, 17),\n (17, 18),\n (17, 19),\n (18, 12),\n (18, 13),\n (18, 14),\n (18, 15),\n (18, 16),\n (18, 17),\n (18, 18),\n (18, 19),\n (19, 12),\n (19, 13),\n (19, 14),\n (19, 15),\n (19, 16),\n (19, 17),\n (19, 18),\n (19, 19),\n (20, 12),\n (20, 13),\n (20, 14),\n (20, 15),\n (20, 16),\n (20, 17),\n (20, 18),\n (20, 19),\n (21, 12),\n (21, 13),\n (21, 14),\n (21, 15),\n (21, 16),\n (21, 17),\n (21, 18),\n (21, 19),\n (22, 12),\n (22, 13),\n (22, 14),\n (22, 15),\n (22, 16),\n (22, 17),\n (22, 18),\n (22, 19),\n (23, 12),\n (23, 13),\n (23, 14),\n (23, 15),\n (23, 16),\n (23, 17),\n (23, 18),\n (23, 19),\n (24, 12),\n (24, 13),\n (24, 14),\n (24, 15),\n (24, 16),\n (24, 17),\n (24, 18),\n (24, 19),\n (25, 12),\n (25, 13),\n (25, 14),\n (25, 15),\n (25, 16),\n (25, 17),\n (25, 18),\n (25, 19),\n (26, 12),\n (26, 13),\n (26, 14),\n (26, 15),\n (26, 16),\n (26, 17),\n (26, 18),\n (26, 19),\n (27, 12),\n (27, 13),\n (27, 14),\n (27, 15),\n (27, 16),\n (27, 17),\n (27, 18),\n (27, 19),\n (28, 12),\n (28, 13),\n (28, 14),\n (28, 15),\n (28, 16),\n (28, 17),\n (28, 18),\n (28, 19),\n (29, 12),\n (29, 13),\n (29, 14),\n (29, 15),\n (29, 16),\n (29, 17),\n (29, 18),\n (29, 19),\n (30, 12),\n (30, 13),\n (30, 14),\n (30, 15),\n (30, 16),\n (30, 17),\n (30, 18),\n (30, 19),\n (31, 12),\n (31, 13),\n (31, 14),\n (31, 15),\n (31, 16),\n (31, 17),\n (31, 18),\n (31, 19),\n (32, 12),\n (32, 13),\n (32, 14),\n (32, 15),\n (32, 16),\n (32, 17),\n (32, 18),\n (32, 19),\n (33, 12),\n (33, 13),\n (33, 14),\n (33, 15),\n (33, 16),\n (33, 17),\n (33, 18),\n (33, 19),\n (34, 12),\n (34, 13),\n (34, 14),\n (34, 15),\n (34, 16),\n (34, 17),\n (34, 18),\n (34, 19),\n (35, 12),\n (35, 13),\n (35, 14),\n (35, 15),\n (35, 16),\n (35, 17),\n (35, 18),\n (35, 19),\n (36, 12),\n (36, 13),\n (36, 14),\n (36, 15),\n (36, 16),\n (36, 17),\n (36, 18),\n (36, 19),\n (37, 12),\n (37, 13),\n (37, 14),\n (37, 15),\n (37, 16),\n (37, 17),\n (37, 18),\n (37, 19),\n (38, 12),\n (38, 13),\n (38, 14),\n (38, 15),\n (38, 16),\n (38, 17),\n (38, 18),\n (38, 19),\n (39, 12),\n (39, 13),\n (39, 14),\n (39, 15),\n (39, 16),\n (39, 17),\n (39, 18),\n (39, 19),\n (40, 12),\n (40, 13),\n (40, 14),\n (40, 15),\n (40, 16),\n (40, 17),\n (40, 18),\n (40, 19),\n (41, 12),\n (41, 13),\n (41, 14),\n (41, 15),\n (41, 16),\n (41, 17),\n (41, 18),\n (41, 19),\n (42, 12),\n (42, 13),\n (42, 14),\n (42, 15),\n (42, 16),\n (42, 17),\n (42, 18),\n (42, 19),\n (43, 12),\n (43, 13),\n (43, 14),\n (43, 15),\n (43, 16),\n (43, 17),\n (43, 18),\n (43, 19),\n (44, 12),\n (44, 13),\n (44, 14),\n (44, 15),\n (44, 16),\n (44, 17),\n (44, 18),\n (44, 19),\n (45, 12),\n (45, 13),\n (45, 14),\n (45, 15),\n (45, 16),\n (45, 17),\n (45, 18),\n (45, 19),\n (46, 12),\n (46, 13),\n (46, 14),\n (46, 15),\n (46, 16),\n (46, 17),\n (46, 18),\n (46, 19),\n (47, 12),\n (47, 13),\n (47, 14),\n (47, 15),\n (47, 16),\n (47, 17),\n (47, 18),\n (47, 19),\n (0, 12),\n (0, 13),\n (0, 14),\n (0, 15),\n (0, 16),\n (0, 17),\n (0, 18),\n (0, 19)]"
     },
     "execution_count": 11,
     "metadata": {},
     "output_type": "execute_result"
    }
   ],
   "source": [
    "create_shifts(30)"
   ],
   "metadata": {
    "collapsed": false,
    "ExecuteTime": {
     "end_time": "2024-04-04T14:54:17.141991Z",
     "start_time": "2024-04-04T14:54:17.131356Z"
    }
   },
   "execution_count": 11
  },
  {
   "cell_type": "code",
   "outputs": [
    {
     "data": {
      "text/plain": "False"
     },
     "execution_count": 17,
     "metadata": {},
     "output_type": "execute_result"
    }
   ],
   "source": [],
   "metadata": {
    "collapsed": false,
    "ExecuteTime": {
     "end_time": "2024-04-04T14:55:43.019771Z",
     "start_time": "2024-04-04T14:55:43.017186Z"
    }
   },
   "execution_count": 17
  },
  {
   "cell_type": "code",
   "outputs": [],
   "source": [],
   "metadata": {
    "collapsed": false
   }
  }
 ],
 "metadata": {
  "kernelspec": {
   "display_name": "police",
   "language": "python",
   "name": "python3"
  },
  "language_info": {
   "codemirror_mode": {
    "name": "ipython",
    "version": 3
   },
   "file_extension": ".py",
   "mimetype": "text/x-python",
   "name": "python",
   "nbconvert_exporter": "python",
   "pygments_lexer": "ipython3",
   "version": "3.11.5"
  }
 },
 "nbformat": 4,
 "nbformat_minor": 2
}
