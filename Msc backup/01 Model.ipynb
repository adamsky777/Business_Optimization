{
 "cells": [
  {
   "cell_type": "code",
   "execution_count": 54,
   "id": "a9e5b13b-9652-4a55-aeeb-f9fbb9b72f84",
   "metadata": {
    "ExecuteTime": {
     "end_time": "2024-04-03T14:27:57.861931Z",
     "start_time": "2024-04-03T14:27:57.853887Z"
    }
   },
   "outputs": [],
   "source": [
    "import pyomo as pyo\n",
    "from pyomo.environ import *\n",
    "import numpy as np\n",
    "from datetime import datetime, timedelta\n",
    "import pandas as pd"
   ]
  },
  {
   "cell_type": "code",
   "outputs": [
    {
     "name": "stdout",
     "output_type": "stream",
     "text": [
      "05:45:00\n",
      "13:15:00\n",
      "20:30:00\n",
      "05:45:00\n",
      "14:45:00\n",
      "21:30:00\n",
      "06:15:00\n",
      "14:45:00\n",
      "21:30:00\n",
      "06:15:00\n",
      "14:45:00\n",
      "21:30:00\n",
      "06:15:00\n",
      "14:45:00\n",
      "21:30:00\n",
      "06:45:00\n",
      "14:45:00\n",
      "21:30:00\n",
      "06:45:00\n",
      "14:45:00\n",
      "21:30:00\n"
     ]
    }
   ],
   "source": [
    "shift_output = pd.read_csv(\"Shift_Scheduling_output.csv\")\n",
    "start_time =[]\n",
    "for i in range(len(shift_output)):\n",
    "    start_time.append(datetime.strptime(shift_output['start'].iloc[i],'%Y-%m-%dT%H:%M:%S.%f'))\n",
    "    print(start_time[i].time()) \n",
    "    \n"
   ],
   "metadata": {
    "collapsed": false,
    "ExecuteTime": {
     "end_time": "2024-04-03T14:27:58.035403Z",
     "start_time": "2024-04-03T14:27:58.029228Z"
    }
   },
   "id": "93b4380e6a4f9f36",
   "execution_count": 55
  },
  {
   "cell_type": "code",
   "outputs": [
    {
     "data": {
      "text/plain": "    Unnamed: 0 Shift_name  staff  start_num  end_num  len  \\\n0            0  Shift-156      4         13       27   14   \n1            1  Shift-170      4         27       41   14   \n2            2  Shift-561      4         41       61   20   \n3            3  Shift-440      4         61       79   18   \n4            4   Shift-42      4         79       91   12   \n5            5  Shift-455      4         91      109   18   \n6            6  Shift-458      4        109      127   18   \n7            7   Shift-64      4        127      139   12   \n8            8  Shift-473      4        139      157   18   \n9            9  Shift-476      4        157      175   18   \n10          10   Shift-86      4        175      187   12   \n11          11  Shift-491      4        187      205   18   \n12          12  Shift-494      4        205      223   18   \n13          13  Shift-108      4        223      235   12   \n14          14  Shift-635      4        235      255   20   \n15          15  Shift-388      4        255      271   16   \n16          16  Shift-130      4        271      283   12   \n17          17  Shift-653      4        283      303   20   \n18          18  Shift-406      4        303      319   16   \n19          19  Shift-152      4        319      331   12   \n20          20  Shift-545      4        331       13   18   \n\n                      start                      end  \n0   2023-01-01T05:45:00.000  2023-01-01T14:00:00.000  \n1   2023-01-01T13:15:00.000  2023-01-01T21:15:00.000  \n2   2023-01-01T20:30:00.000  2023-01-02T06:30:00.000  \n3   2023-01-02T05:45:00.000  2023-01-02T15:30:00.000  \n4   2023-01-02T14:45:00.000  2023-01-02T22:15:00.000  \n5   2023-01-02T21:30:00.000  2023-01-03T07:00:00.000  \n6   2023-01-03T06:15:00.000  2023-01-03T15:30:00.000  \n7   2023-01-03T14:45:00.000  2023-01-03T22:15:00.000  \n8   2023-01-03T21:30:00.000  2023-01-04T07:00:00.000  \n9   2023-01-04T06:15:00.000  2023-01-04T15:30:00.000  \n10  2023-01-04T14:45:00.000  2023-01-04T22:15:00.000  \n11  2023-01-04T21:30:00.000  2023-01-05T07:00:00.000  \n12  2023-01-05T06:15:00.000  2023-01-05T15:30:00.000  \n13  2023-01-05T14:45:00.000  2023-01-05T22:15:00.000  \n14  2023-01-05T21:30:00.000  2023-01-06T07:30:00.000  \n15  2023-01-06T06:45:00.000  2023-01-06T15:30:00.000  \n16  2023-01-06T14:45:00.000  2023-01-06T22:15:00.000  \n17  2023-01-06T21:30:00.000  2023-01-07T07:30:00.000  \n18  2023-01-07T06:45:00.000  2023-01-07T15:30:00.000  \n19  2023-01-07T14:45:00.000  2023-01-07T22:15:00.000  \n20  2023-01-07T21:30:00.000  2023-01-01T06:30:00.000  ",
      "text/html": "<div>\n<style scoped>\n    .dataframe tbody tr th:only-of-type {\n        vertical-align: middle;\n    }\n\n    .dataframe tbody tr th {\n        vertical-align: top;\n    }\n\n    .dataframe thead th {\n        text-align: right;\n    }\n</style>\n<table border=\"1\" class=\"dataframe\">\n  <thead>\n    <tr style=\"text-align: right;\">\n      <th></th>\n      <th>Unnamed: 0</th>\n      <th>Shift_name</th>\n      <th>staff</th>\n      <th>start_num</th>\n      <th>end_num</th>\n      <th>len</th>\n      <th>start</th>\n      <th>end</th>\n    </tr>\n  </thead>\n  <tbody>\n    <tr>\n      <th>0</th>\n      <td>0</td>\n      <td>Shift-156</td>\n      <td>4</td>\n      <td>13</td>\n      <td>27</td>\n      <td>14</td>\n      <td>2023-01-01T05:45:00.000</td>\n      <td>2023-01-01T14:00:00.000</td>\n    </tr>\n    <tr>\n      <th>1</th>\n      <td>1</td>\n      <td>Shift-170</td>\n      <td>4</td>\n      <td>27</td>\n      <td>41</td>\n      <td>14</td>\n      <td>2023-01-01T13:15:00.000</td>\n      <td>2023-01-01T21:15:00.000</td>\n    </tr>\n    <tr>\n      <th>2</th>\n      <td>2</td>\n      <td>Shift-561</td>\n      <td>4</td>\n      <td>41</td>\n      <td>61</td>\n      <td>20</td>\n      <td>2023-01-01T20:30:00.000</td>\n      <td>2023-01-02T06:30:00.000</td>\n    </tr>\n    <tr>\n      <th>3</th>\n      <td>3</td>\n      <td>Shift-440</td>\n      <td>4</td>\n      <td>61</td>\n      <td>79</td>\n      <td>18</td>\n      <td>2023-01-02T05:45:00.000</td>\n      <td>2023-01-02T15:30:00.000</td>\n    </tr>\n    <tr>\n      <th>4</th>\n      <td>4</td>\n      <td>Shift-42</td>\n      <td>4</td>\n      <td>79</td>\n      <td>91</td>\n      <td>12</td>\n      <td>2023-01-02T14:45:00.000</td>\n      <td>2023-01-02T22:15:00.000</td>\n    </tr>\n    <tr>\n      <th>5</th>\n      <td>5</td>\n      <td>Shift-455</td>\n      <td>4</td>\n      <td>91</td>\n      <td>109</td>\n      <td>18</td>\n      <td>2023-01-02T21:30:00.000</td>\n      <td>2023-01-03T07:00:00.000</td>\n    </tr>\n    <tr>\n      <th>6</th>\n      <td>6</td>\n      <td>Shift-458</td>\n      <td>4</td>\n      <td>109</td>\n      <td>127</td>\n      <td>18</td>\n      <td>2023-01-03T06:15:00.000</td>\n      <td>2023-01-03T15:30:00.000</td>\n    </tr>\n    <tr>\n      <th>7</th>\n      <td>7</td>\n      <td>Shift-64</td>\n      <td>4</td>\n      <td>127</td>\n      <td>139</td>\n      <td>12</td>\n      <td>2023-01-03T14:45:00.000</td>\n      <td>2023-01-03T22:15:00.000</td>\n    </tr>\n    <tr>\n      <th>8</th>\n      <td>8</td>\n      <td>Shift-473</td>\n      <td>4</td>\n      <td>139</td>\n      <td>157</td>\n      <td>18</td>\n      <td>2023-01-03T21:30:00.000</td>\n      <td>2023-01-04T07:00:00.000</td>\n    </tr>\n    <tr>\n      <th>9</th>\n      <td>9</td>\n      <td>Shift-476</td>\n      <td>4</td>\n      <td>157</td>\n      <td>175</td>\n      <td>18</td>\n      <td>2023-01-04T06:15:00.000</td>\n      <td>2023-01-04T15:30:00.000</td>\n    </tr>\n    <tr>\n      <th>10</th>\n      <td>10</td>\n      <td>Shift-86</td>\n      <td>4</td>\n      <td>175</td>\n      <td>187</td>\n      <td>12</td>\n      <td>2023-01-04T14:45:00.000</td>\n      <td>2023-01-04T22:15:00.000</td>\n    </tr>\n    <tr>\n      <th>11</th>\n      <td>11</td>\n      <td>Shift-491</td>\n      <td>4</td>\n      <td>187</td>\n      <td>205</td>\n      <td>18</td>\n      <td>2023-01-04T21:30:00.000</td>\n      <td>2023-01-05T07:00:00.000</td>\n    </tr>\n    <tr>\n      <th>12</th>\n      <td>12</td>\n      <td>Shift-494</td>\n      <td>4</td>\n      <td>205</td>\n      <td>223</td>\n      <td>18</td>\n      <td>2023-01-05T06:15:00.000</td>\n      <td>2023-01-05T15:30:00.000</td>\n    </tr>\n    <tr>\n      <th>13</th>\n      <td>13</td>\n      <td>Shift-108</td>\n      <td>4</td>\n      <td>223</td>\n      <td>235</td>\n      <td>12</td>\n      <td>2023-01-05T14:45:00.000</td>\n      <td>2023-01-05T22:15:00.000</td>\n    </tr>\n    <tr>\n      <th>14</th>\n      <td>14</td>\n      <td>Shift-635</td>\n      <td>4</td>\n      <td>235</td>\n      <td>255</td>\n      <td>20</td>\n      <td>2023-01-05T21:30:00.000</td>\n      <td>2023-01-06T07:30:00.000</td>\n    </tr>\n    <tr>\n      <th>15</th>\n      <td>15</td>\n      <td>Shift-388</td>\n      <td>4</td>\n      <td>255</td>\n      <td>271</td>\n      <td>16</td>\n      <td>2023-01-06T06:45:00.000</td>\n      <td>2023-01-06T15:30:00.000</td>\n    </tr>\n    <tr>\n      <th>16</th>\n      <td>16</td>\n      <td>Shift-130</td>\n      <td>4</td>\n      <td>271</td>\n      <td>283</td>\n      <td>12</td>\n      <td>2023-01-06T14:45:00.000</td>\n      <td>2023-01-06T22:15:00.000</td>\n    </tr>\n    <tr>\n      <th>17</th>\n      <td>17</td>\n      <td>Shift-653</td>\n      <td>4</td>\n      <td>283</td>\n      <td>303</td>\n      <td>20</td>\n      <td>2023-01-06T21:30:00.000</td>\n      <td>2023-01-07T07:30:00.000</td>\n    </tr>\n    <tr>\n      <th>18</th>\n      <td>18</td>\n      <td>Shift-406</td>\n      <td>4</td>\n      <td>303</td>\n      <td>319</td>\n      <td>16</td>\n      <td>2023-01-07T06:45:00.000</td>\n      <td>2023-01-07T15:30:00.000</td>\n    </tr>\n    <tr>\n      <th>19</th>\n      <td>19</td>\n      <td>Shift-152</td>\n      <td>4</td>\n      <td>319</td>\n      <td>331</td>\n      <td>12</td>\n      <td>2023-01-07T14:45:00.000</td>\n      <td>2023-01-07T22:15:00.000</td>\n    </tr>\n    <tr>\n      <th>20</th>\n      <td>20</td>\n      <td>Shift-545</td>\n      <td>4</td>\n      <td>331</td>\n      <td>13</td>\n      <td>18</td>\n      <td>2023-01-07T21:30:00.000</td>\n      <td>2023-01-01T06:30:00.000</td>\n    </tr>\n  </tbody>\n</table>\n</div>"
     },
     "execution_count": 65,
     "metadata": {},
     "output_type": "execute_result"
    }
   ],
   "source": [
    "shift_output"
   ],
   "metadata": {
    "collapsed": false,
    "ExecuteTime": {
     "end_time": "2024-04-03T14:38:12.069705Z",
     "start_time": "2024-04-03T14:38:12.057793Z"
    }
   },
   "id": "b0ed168dda2cf156",
   "execution_count": 65
  },
  {
   "cell_type": "code",
   "execution_count": 56,
   "id": "ffc3d603-a8d1-4d3e-ab19-404dfb525f37",
   "metadata": {
    "ExecuteTime": {
     "end_time": "2024-04-03T14:27:58.463053Z",
     "start_time": "2024-04-03T14:27:58.460153Z"
    }
   },
   "outputs": [],
   "source": [
    "# Initialize the model\n",
    "model = ConcreteModel()"
   ]
  },
  {
   "cell_type": "markdown",
   "id": "f189e24b-f15b-4d01-8953-c61973c3698d",
   "metadata": {},
   "source": [
    "## Define the Sets"
   ]
  },
  {
   "cell_type": "markdown",
   "id": "eb2029f8-1565-4f39-8756-88586272edfe",
   "metadata": {},
   "source": [
    "### Employees"
   ]
  },
  {
   "cell_type": "code",
   "outputs": [],
   "source": [
    "np.random.seed(0)\n",
    "\n",
    "# Generate unique numbers to be used for the all_employees list\n",
    "unique_numbers = np.random.choice(range(10000, 99999), size=84, replace=False)\n",
    "# Generates a list of employees with randomly generated empIDs \n",
    "all_employees = ['emp{}'.format(number) for number in unique_numbers]\n",
    "\n",
    "# And a list of employee IDs who desire certain shift patterns\n",
    "employees_with_desirable_shifts = np.random.choice(all_employees, size=30, replace=False)\n",
    "\n",
    "# Shift types\n",
    "ShiftTypes = ['D', 'E', 'N', 'O']\n",
    "\n",
    "#NOTE: I guess here we have to input the values from the model of Lorenzo and Joachim\n",
    "#Define a dictionary with the shifts for each day of the week\n",
    "shifts_by_day = {\n",
    "    'Monday': ['D', 'E', 'N', 'O'],\n",
    "    'Tuesday': ['D', 'E', 'N', 'O'],\n",
    "    'Wednesday': ['D', 'E', 'N', 'O'],\n",
    "    'Thursday': ['D', 'E', 'N', 'O'],\n",
    "    'Friday': ['D', 'E', 'N', 'O'],\n",
    "    'Saturday': ['D', 'E', 'N', 'O'],\n",
    "    'Sunday': ['D', 'E', 'N', 'O']  \n",
    "} # Need input from Lorenzo and Joachim here\n",
    "\n",
    "Weeks = range(12)\n",
    "# Half-hour periods (24 hours * 2)\n",
    "time_periods = list(range(48))\n",
    "\n",
    "# minimum and ideal staffing levels\n"
   ],
   "metadata": {
    "collapsed": false,
    "ExecuteTime": {
     "end_time": "2024-04-03T14:28:00.380159Z",
     "start_time": "2024-04-03T14:28:00.360978Z"
    }
   },
   "id": "70f6439c64f3844",
   "execution_count": 57
  },
  {
   "cell_type": "code",
   "execution_count": 58,
   "id": "688235ea-ce17-49a8-a982-443b870c128c",
   "metadata": {
    "ExecuteTime": {
     "end_time": "2024-04-03T14:28:00.765710Z",
     "start_time": "2024-04-03T14:28:00.760439Z"
    }
   },
   "outputs": [],
   "source": [
    "# Define the set of all employees\n",
    "model.Employees = Set(initialize=all_employees)\n",
    "\n",
    "# Define the subset of employees with desirable shift patterns\n",
    "model.Employees_DES = Set(within=model.Employees, initialize=employees_with_desirable_shifts)\n",
    "#Note: Need to connect the employees who has desirable shift patterns to the shift patterns that they desire\n",
    "\n",
    "# Define the complete set of shifts\n",
    "model.ShiftTypes = Set(initialize=ShiftTypes)\n",
    "\n",
    "# Define subsets for the shift types\n",
    "model.Shifts_W = Set(within=model.Shifts, initialize=['D', 'E', 'N'])  # Work shifts (Day, Evening, Night)\n",
    "model.Shifts_O = Set(within=model.Shifts, initialize=['O'])  # Off shifts \n",
    "\n"
   ]
  },
  {
   "cell_type": "code",
   "outputs": [
    {
     "name": "stdout",
     "output_type": "stream",
     "text": [
      "36 36\n"
     ]
    }
   ],
   "source": [
    "e = []\n",
    "for i in range(12,48):\n",
    "    e.append(i)\n",
    "print(len(e), 48-12)"
   ],
   "metadata": {
    "collapsed": false,
    "ExecuteTime": {
     "end_time": "2024-04-04T12:09:00.004625Z",
     "start_time": "2024-04-04T12:09:00.000349Z"
    }
   },
   "id": "863848730954e047",
   "execution_count": 76
  },
  {
   "cell_type": "code",
   "outputs": [
    {
     "data": {
      "text/plain": "[(0, 12),\n (0, 13),\n (0, 14),\n (0, 15),\n (0, 16),\n (0, 17),\n (0, 18),\n (0, 19),\n (0, 12),\n (0, 13),\n (0, 14),\n (0, 15),\n (0, 16),\n (0, 17),\n (0, 18),\n (0, 19),\n (0, 12),\n (0, 13),\n (0, 14),\n (0, 15),\n (0, 16),\n (0, 17),\n (0, 18),\n (0, 19),\n (0, 12),\n (0, 13),\n (0, 14),\n (0, 15),\n (0, 16),\n (0, 17),\n (0, 18),\n (0, 19),\n (0, 12),\n (0, 13),\n (0, 14),\n (0, 15),\n (0, 16),\n (0, 17),\n (0, 18),\n (0, 19),\n (0, 12),\n (0, 13),\n (0, 14),\n (0, 15),\n (0, 16),\n (0, 17),\n (0, 18),\n (0, 19),\n (0, 12),\n (0, 13),\n (0, 14),\n (0, 15),\n (0, 16),\n (0, 17),\n (0, 18),\n (0, 19),\n (0, 12),\n (0, 13),\n (0, 14),\n (0, 15),\n (0, 16),\n (0, 17),\n (0, 18),\n (0, 19),\n (0, 12),\n (0, 13),\n (0, 14),\n (0, 15),\n (0, 16),\n (0, 17),\n (0, 18),\n (0, 19),\n (0, 12),\n (0, 13),\n (0, 14),\n (0, 15),\n (0, 16),\n (0, 17),\n (0, 18),\n (0, 19),\n (0, 12),\n (0, 13),\n (0, 14),\n (0, 15),\n (0, 16),\n (0, 17),\n (0, 18),\n (0, 19),\n (0, 12),\n (0, 13),\n (0, 14),\n (0, 15),\n (0, 16),\n (0, 17),\n (0, 18),\n (0, 19),\n (0, 12),\n (0, 13),\n (0, 14),\n (0, 15),\n (0, 16),\n (0, 17),\n (0, 18),\n (0, 19),\n (0, 12),\n (0, 13),\n (0, 14),\n (0, 15),\n (0, 16),\n (0, 17),\n (0, 18),\n (0, 19),\n (0, 12),\n (0, 13),\n (0, 14),\n (0, 15),\n (0, 16),\n (0, 17),\n (0, 18),\n (0, 19),\n (0, 12),\n (0, 13),\n (0, 14),\n (0, 15),\n (0, 16),\n (0, 17),\n (0, 18),\n (0, 19),\n (0, 12),\n (0, 13),\n (0, 14),\n (0, 15),\n (0, 16),\n (0, 17),\n (0, 18),\n (0, 19),\n (0, 12),\n (0, 13),\n (0, 14),\n (0, 15),\n (0, 16),\n (0, 17),\n (0, 18),\n (0, 19),\n (0, 12),\n (0, 13),\n (0, 14),\n (0, 15),\n (0, 16),\n (0, 17),\n (0, 18),\n (0, 19),\n (0, 12),\n (0, 13),\n (0, 14),\n (0, 15),\n (0, 16),\n (0, 17),\n (0, 18),\n (0, 19),\n (0, 12),\n (0, 13),\n (0, 14),\n (0, 15),\n (0, 16),\n (0, 17),\n (0, 18),\n (0, 19),\n (0, 12),\n (0, 13),\n (0, 14),\n (0, 15),\n (0, 16),\n (0, 17),\n (0, 18),\n (0, 19),\n (0, 12),\n (0, 13),\n (0, 14),\n (0, 15),\n (0, 16),\n (0, 17),\n (0, 18),\n (0, 19),\n (0, 12),\n (0, 13),\n (0, 14),\n (0, 15),\n (0, 16),\n (0, 17),\n (0, 18),\n (0, 19),\n (0, 12),\n (0, 13),\n (0, 14),\n (0, 15),\n (0, 16),\n (0, 17),\n (0, 18),\n (0, 19),\n (0, 12),\n (0, 13),\n (0, 14),\n (0, 15),\n (0, 16),\n (0, 17),\n (0, 18),\n (0, 19),\n (0, 12),\n (0, 13),\n (0, 14),\n (0, 15),\n (0, 16),\n (0, 17),\n (0, 18),\n (0, 19),\n (0, 12),\n (0, 13),\n (0, 14),\n (0, 15),\n (0, 16),\n (0, 17),\n (0, 18),\n (0, 19),\n (0, 12),\n (0, 13),\n (0, 14),\n (0, 15),\n (0, 16),\n (0, 17),\n (0, 18),\n (0, 19),\n (0, 12),\n (0, 13),\n (0, 14),\n (0, 15),\n (0, 16),\n (0, 17),\n (0, 18),\n (0, 19),\n (0, 12),\n (0, 13),\n (0, 14),\n (0, 15),\n (0, 16),\n (0, 17),\n (0, 18),\n (0, 19),\n (0, 12),\n (0, 13),\n (0, 14),\n (0, 15),\n (0, 16),\n (0, 17),\n (0, 18),\n (0, 19),\n (0, 12),\n (0, 13),\n (0, 14),\n (0, 15),\n (0, 16),\n (0, 17),\n (0, 18),\n (0, 19),\n (0, 12),\n (0, 13),\n (0, 14),\n (0, 15),\n (0, 16),\n (0, 17),\n (0, 18),\n (0, 19),\n (0, 12),\n (0, 13),\n (0, 14),\n (0, 15),\n (0, 16),\n (0, 17),\n (0, 18),\n (0, 19),\n (0, 12),\n (0, 13),\n (0, 14),\n (0, 15),\n (0, 16),\n (0, 17),\n (0, 18),\n (0, 19),\n (1, 12),\n (1, 13),\n (1, 14),\n (1, 15),\n (1, 16),\n (1, 17),\n (1, 18),\n (1, 19),\n (1, 12),\n (1, 13),\n (1, 14),\n (1, 15),\n (1, 16),\n (1, 17),\n (1, 18),\n (1, 19),\n (1, 12),\n (1, 13),\n (1, 14),\n (1, 15),\n (1, 16),\n (1, 17),\n (1, 18),\n (1, 19),\n (1, 12),\n (1, 13),\n (1, 14),\n (1, 15),\n (1, 16),\n (1, 17),\n (1, 18),\n (1, 19),\n (1, 12),\n (1, 13),\n (1, 14),\n (1, 15),\n (1, 16),\n (1, 17),\n (1, 18),\n (1, 19),\n (1, 12),\n (1, 13),\n (1, 14),\n (1, 15),\n (1, 16),\n (1, 17),\n (1, 18),\n (1, 19),\n (1, 12),\n (1, 13),\n (1, 14),\n (1, 15),\n (1, 16),\n (1, 17),\n (1, 18),\n (1, 19),\n (1, 12),\n (1, 13),\n (1, 14),\n (1, 15),\n (1, 16),\n (1, 17),\n (1, 18),\n (1, 19),\n (1, 12),\n (1, 13),\n (1, 14),\n (1, 15),\n (1, 16),\n (1, 17),\n (1, 18),\n (1, 19),\n (1, 12),\n (1, 13),\n (1, 14),\n (1, 15),\n (1, 16),\n (1, 17),\n (1, 18),\n (1, 19),\n (1, 12),\n (1, 13),\n (1, 14),\n (1, 15),\n (1, 16),\n (1, 17),\n (1, 18),\n (1, 19),\n (1, 12),\n (1, 13),\n (1, 14),\n (1, 15),\n (1, 16),\n (1, 17),\n (1, 18),\n (1, 19),\n (1, 12),\n (1, 13),\n (1, 14),\n (1, 15),\n (1, 16),\n (1, 17),\n (1, 18),\n (1, 19),\n (1, 12),\n (1, 13),\n (1, 14),\n (1, 15),\n (1, 16),\n (1, 17),\n (1, 18),\n (1, 19),\n (1, 12),\n (1, 13),\n (1, 14),\n (1, 15),\n (1, 16),\n (1, 17),\n (1, 18),\n (1, 19),\n (1, 12),\n (1, 13),\n (1, 14),\n (1, 15),\n (1, 16),\n (1, 17),\n (1, 18),\n (1, 19),\n (1, 12),\n (1, 13),\n (1, 14),\n (1, 15),\n (1, 16),\n (1, 17),\n (1, 18),\n (1, 19),\n (1, 12),\n (1, 13),\n (1, 14),\n (1, 15),\n (1, 16),\n (1, 17),\n (1, 18),\n (1, 19),\n (1, 12),\n (1, 13),\n (1, 14),\n (1, 15),\n (1, 16),\n (1, 17),\n (1, 18),\n (1, 19),\n (1, 12),\n (1, 13),\n (1, 14),\n (1, 15),\n (1, 16),\n (1, 17),\n (1, 18),\n (1, 19),\n (1, 12),\n (1, 13),\n (1, 14),\n (1, 15),\n (1, 16),\n (1, 17),\n (1, 18),\n (1, 19),\n (1, 12),\n (1, 13),\n (1, 14),\n (1, 15),\n (1, 16),\n (1, 17),\n (1, 18),\n (1, 19),\n (1, 12),\n (1, 13),\n (1, 14),\n (1, 15),\n (1, 16),\n (1, 17),\n (1, 18),\n (1, 19),\n (1, 12),\n (1, 13),\n (1, 14),\n (1, 15),\n (1, 16),\n (1, 17),\n (1, 18),\n (1, 19),\n (1, 12),\n (1, 13),\n (1, 14),\n (1, 15),\n (1, 16),\n (1, 17),\n (1, 18),\n (1, 19),\n (1, 12),\n (1, 13),\n (1, 14),\n (1, 15),\n (1, 16),\n (1, 17),\n (1, 18),\n (1, 19),\n (1, 12),\n (1, 13),\n (1, 14),\n (1, 15),\n (1, 16),\n (1, 17),\n (1, 18),\n (1, 19),\n (1, 12),\n (1, 13),\n (1, 14),\n (1, 15),\n (1, 16),\n (1, 17),\n (1, 18),\n (1, 19),\n (1, 12),\n (1, 13),\n (1, 14),\n (1, 15),\n (1, 16),\n (1, 17),\n (1, 18),\n (1, 19),\n (1, 12),\n (1, 13),\n (1, 14),\n (1, 15),\n (1, 16),\n (1, 17),\n (1, 18),\n (1, 19),\n (1, 12),\n (1, 13),\n (1, 14),\n (1, 15),\n (1, 16),\n (1, 17),\n (1, 18),\n (1, 19),\n (1, 12),\n (1, 13),\n (1, 14),\n (1, 15),\n (1, 16),\n (1, 17),\n (1, 18),\n (1, 19),\n (1, 12),\n (1, 13),\n (1, 14),\n (1, 15),\n (1, 16),\n (1, 17),\n (1, 18),\n (1, 19),\n (1, 12),\n (1, 13),\n (1, 14),\n (1, 15),\n (1, 16),\n (1, 17),\n (1, 18),\n (1, 19),\n (1, 12),\n (1, 13),\n (1, 14),\n (1, 15),\n (1, 16),\n (1, 17),\n (1, 18),\n (1, 19),\n (1, 12),\n (1, 13),\n (1, 14),\n (1, 15),\n (1, 16),\n (1, 17),\n (1, 18),\n (1, 19),\n (2, 12),\n (2, 13),\n (2, 14),\n (2, 15),\n (2, 16),\n (2, 17),\n (2, 18),\n (2, 19),\n (2, 12),\n (2, 13),\n (2, 14),\n (2, 15),\n (2, 16),\n (2, 17),\n (2, 18),\n (2, 19),\n (2, 12),\n (2, 13),\n (2, 14),\n (2, 15),\n (2, 16),\n (2, 17),\n (2, 18),\n (2, 19),\n (2, 12),\n (2, 13),\n (2, 14),\n (2, 15),\n (2, 16),\n (2, 17),\n (2, 18),\n (2, 19),\n (2, 12),\n (2, 13),\n (2, 14),\n (2, 15),\n (2, 16),\n (2, 17),\n (2, 18),\n (2, 19),\n (2, 12),\n (2, 13),\n (2, 14),\n (2, 15),\n (2, 16),\n (2, 17),\n (2, 18),\n (2, 19),\n (2, 12),\n (2, 13),\n (2, 14),\n (2, 15),\n (2, 16),\n (2, 17),\n (2, 18),\n (2, 19),\n (2, 12),\n (2, 13),\n (2, 14),\n (2, 15),\n (2, 16),\n (2, 17),\n (2, 18),\n (2, 19),\n (2, 12),\n (2, 13),\n (2, 14),\n (2, 15),\n (2, 16),\n (2, 17),\n (2, 18),\n (2, 19),\n (2, 12),\n (2, 13),\n (2, 14),\n (2, 15),\n (2, 16),\n (2, 17),\n (2, 18),\n (2, 19),\n (2, 12),\n (2, 13),\n (2, 14),\n (2, 15),\n (2, 16),\n (2, 17),\n (2, 18),\n (2, 19),\n (2, 12),\n (2, 13),\n (2, 14),\n (2, 15),\n (2, 16),\n (2, 17),\n (2, 18),\n (2, 19),\n (2, 12),\n (2, 13),\n (2, 14),\n (2, 15),\n (2, 16),\n (2, 17),\n (2, 18),\n (2, 19),\n (2, 12),\n (2, 13),\n (2, 14),\n (2, 15),\n (2, 16),\n (2, 17),\n (2, 18),\n (2, 19),\n (2, 12),\n (2, 13),\n (2, 14),\n (2, 15),\n (2, 16),\n (2, 17),\n (2, 18),\n (2, 19),\n (2, 12),\n (2, 13),\n (2, 14),\n (2, 15),\n (2, 16),\n (2, 17),\n (2, 18),\n (2, 19),\n (2, 12),\n (2, 13),\n (2, 14),\n (2, 15),\n (2, 16),\n (2, 17),\n (2, 18),\n (2, 19),\n (2, 12),\n (2, 13),\n (2, 14),\n (2, 15),\n (2, 16),\n (2, 17),\n (2, 18),\n (2, 19),\n (2, 12),\n (2, 13),\n (2, 14),\n (2, 15),\n (2, 16),\n (2, 17),\n (2, 18),\n (2, 19),\n (2, 12),\n (2, 13),\n (2, 14),\n (2, 15),\n (2, 16),\n (2, 17),\n (2, 18),\n (2, 19),\n (2, 12),\n (2, 13),\n (2, 14),\n (2, 15),\n (2, 16),\n (2, 17),\n (2, 18),\n (2, 19),\n (2, 12),\n (2, 13),\n (2, 14),\n (2, 15),\n (2, 16),\n (2, 17),\n (2, 18),\n (2, 19),\n (2, 12),\n (2, 13),\n (2, 14),\n (2, 15),\n (2, 16),\n (2, 17),\n (2, 18),\n (2, 19),\n (2, 12),\n (2, 13),\n (2, 14),\n (2, 15),\n (2, 16),\n (2, 17),\n (2, 18),\n (2, 19),\n (2, 12),\n (2, 13),\n (2, 14),\n (2, 15),\n (2, 16),\n (2, 17),\n (2, 18),\n (2, 19),\n (2, 12),\n (2, 13),\n (2, 14),\n (2, 15),\n (2, 16),\n (2, 17),\n (2, 18),\n (2, 19),\n (2, 12),\n (2, 13),\n (2, 14),\n (2, 15),\n (2, 16),\n (2, 17),\n (2, 18),\n (2, 19),\n (2, 12),\n (2, 13),\n (2, 14),\n (2, 15),\n (2, 16),\n (2, 17),\n (2, 18),\n (2, 19),\n (2, 12),\n (2, 13),\n (2, 14),\n (2, 15),\n (2, 16),\n (2, 17),\n (2, 18),\n (2, 19),\n (2, 12),\n (2, 13),\n (2, 14),\n (2, 15),\n (2, 16),\n (2, 17),\n (2, 18),\n (2, 19),\n (2, 12),\n (2, 13),\n (2, 14),\n (2, 15),\n (2, 16),\n (2, 17),\n (2, 18),\n (2, 19),\n (2, 12),\n (2, 13),\n (2, 14),\n (2, 15),\n (2, 16),\n (2, 17),\n (2, 18),\n (2, 19),\n (2, 12),\n (2, 13),\n (2, 14),\n (2, 15),\n (2, 16),\n (2, 17),\n (2, 18),\n (2, 19),\n (2, 12),\n (2, 13),\n (2, 14),\n (2, 15),\n (2, 16),\n (2, 17),\n (2, 18),\n (2, 19),\n (2, 12),\n (2, 13),\n (2, 14),\n (2, 15),\n (2, 16),\n (2, 17),\n (2, 18),\n (2, 19),\n (2, 12),\n (2, 13),\n (2, 14),\n (2, 15),\n (2, 16),\n (2, 17),\n (2, 18),\n (2, 19),\n (3, 12),\n (3, 13),\n (3, 14),\n (3, 15),\n (3, 16),\n (3, 17),\n (3, 18),\n (3, 19),\n (3, 12),\n (3, 13),\n (3, 14),\n (3, 15),\n (3, 16),\n (3, 17),\n (3, 18),\n (3, 19),\n (3, 12),\n (3, 13),\n (3, 14),\n (3, 15),\n (3, 16),\n (3, 17),\n (3, 18),\n (3, 19),\n (3, 12),\n (3, 13),\n (3, 14),\n (3, 15),\n (3, 16),\n (3, 17),\n (3, 18),\n (3, 19),\n (3, 12),\n (3, 13),\n (3, 14),\n (3, 15),\n (3, 16),\n (3, 17),\n (3, 18),\n (3, 19),\n (3, 12),\n (3, 13),\n (3, 14),\n (3, 15),\n (3, 16),\n (3, 17),\n (3, 18),\n (3, 19),\n (3, 12),\n (3, 13),\n (3, 14),\n (3, 15),\n (3, 16),\n (3, 17),\n (3, 18),\n (3, 19),\n (3, 12),\n (3, 13),\n (3, 14),\n (3, 15),\n (3, 16),\n (3, 17),\n (3, 18),\n (3, 19),\n (3, 12),\n (3, 13),\n (3, 14),\n (3, 15),\n (3, 16),\n (3, 17),\n (3, 18),\n (3, 19),\n (3, 12),\n (3, 13),\n (3, 14),\n (3, 15),\n (3, 16),\n (3, 17),\n (3, 18),\n (3, 19),\n (3, 12),\n (3, 13),\n (3, 14),\n (3, 15),\n (3, 16),\n (3, 17),\n (3, 18),\n (3, 19),\n (3, 12),\n (3, 13),\n (3, 14),\n (3, 15),\n (3, 16),\n (3, 17),\n (3, 18),\n (3, 19),\n (3, 12),\n (3, 13),\n (3, 14),\n (3, 15),\n (3, 16),\n (3, 17),\n (3, 18),\n (3, 19),\n (3, 12),\n (3, 13),\n (3, 14),\n (3, 15),\n (3, 16),\n (3, 17),\n (3, 18),\n (3, 19),\n (3, 12),\n (3, 13),\n (3, 14),\n (3, 15),\n (3, 16),\n (3, 17),\n (3, 18),\n (3, 19),\n (3, 12),\n (3, 13),\n (3, 14),\n (3, 15),\n (3, 16),\n (3, 17),\n (3, 18),\n (3, 19),\n (3, 12),\n (3, 13),\n (3, 14),\n (3, 15),\n (3, 16),\n (3, 17),\n (3, 18),\n (3, 19),\n ...]"
     },
     "execution_count": 69,
     "metadata": {},
     "output_type": "execute_result"
    }
   ],
   "source": [
    "shifts = []\n",
    "for t in time_periods:\n",
    "    for duration in range(12,48):\n",
    "        for duration in range(12,20):\n",
    "            shifts.append((t, duration))\n",
    "            \n",
    "shifts"
   ],
   "metadata": {
    "collapsed": false,
    "ExecuteTime": {
     "end_time": "2024-04-04T12:06:16.643885Z",
     "start_time": "2024-04-04T12:06:16.546262Z"
    }
   },
   "id": "3c8071a0a3dae59d",
   "execution_count": 69
  },
  {
   "cell_type": "code",
   "outputs": [],
   "source": [
    "def is_shift_cov(shift,period):\n",
    "    interval = [(shift[0],  min(shift[0] + shift[1], 48))]\n",
    "    if shift [0] + shift  >= 48:\n",
    "        intervals.append\n",
    "    \n",
    "    start = shift[0]\n",
    "    end = shift[0] + shift[1]\n",
    "    if end < 48: \n",
    "        return period >= start and period < end\n",
    "    elif end >= 48:\n",
    "        return  period <= start and period > end\n",
    "    \n"
   ],
   "metadata": {
    "collapsed": false,
    "ExecuteTime": {
     "end_time": "2024-04-03T15:16:27.826035Z",
     "start_time": "2024-04-03T15:16:27.820022Z"
    }
   },
   "id": "80b2b9624b144404",
   "execution_count": 68
  },
  {
   "cell_type": "code",
   "execution_count": 59,
   "id": "3202a7ae-a6d5-4062-99b5-44a1f84f4daa",
   "metadata": {
    "ExecuteTime": {
     "end_time": "2024-04-03T14:28:01.399795Z",
     "start_time": "2024-04-03T14:28:01.396443Z"
    }
   },
   "outputs": [],
   "source": [
    "##all_possible_shifts = #input from Joachim and Lorenzo"
   ]
  },
  {
   "cell_type": "markdown",
   "id": "85210147-5c07-4b2d-9ddd-d5d8da386486",
   "metadata": {},
   "source": [
    "### Shifts"
   ]
  },
  {
   "cell_type": "code",
   "execution_count": 60,
   "id": "cf373005-ec5e-4709-bd62-fca79cede928",
   "metadata": {
    "ExecuteTime": {
     "end_time": "2024-04-03T14:28:01.940105Z",
     "start_time": "2024-04-03T14:28:01.937407Z"
    }
   },
   "outputs": [
    {
     "name": "stdout",
     "output_type": "stream",
     "text": [
      "Shifts_W : Size=1, Index=None, Ordered=Insertion\n",
      "    Key  : Dimen : Domain : Size : Members\n",
      "    None :     1 : Shifts :    3 : {'D', 'E', 'N'}\n"
     ]
    }
   ],
   "source": [
    "model.Shifts_W.display()"
   ]
  },
  {
   "cell_type": "markdown",
   "id": "a2127122-8baf-449b-9ec8-ac54003a8c64",
   "metadata": {},
   "source": [
    "### Shift Days"
   ]
  },
  {
   "cell_type": "raw",
   "id": "1d06a500-aedd-40a0-b06e-6c098f09e335",
   "metadata": {},
   "source": [
    "- Average shift for a week\n",
    "- Demand for a longer period (12 weeks)"
   ]
  },
  {
   "cell_type": "code",
   "execution_count": 61,
   "id": "d6b51bce-79d3-4597-a3d1-344960d23b7f",
   "metadata": {
    "ExecuteTime": {
     "end_time": "2024-04-03T14:28:03.004804Z",
     "start_time": "2024-04-03T14:28:02.999747Z"
    }
   },
   "outputs": [
    {
     "name": "stdout",
     "output_type": "stream",
     "text": [
      "Shifts on Monday: ['D', 'E', 'N', 'O']\n",
      "Shifts on Tuesday: ['D', 'E', 'N', 'O']\n",
      "Shifts on Wednesday: ['D', 'E', 'N', 'O']\n",
      "Shifts on Thursday: ['D', 'E', 'N', 'O']\n",
      "Shifts on Friday: ['D', 'E', 'N', 'O']\n",
      "Shifts on Saturday: ['D', 'E', 'N', 'O']\n",
      "Shifts on Sunday: ['D', 'E', 'N', 'O']\n"
     ]
    }
   ],
   "source": [
    "# Define the days of the week set\n",
    "model.Days = Set(initialize=shifts_by_day.keys())\n",
    "\n",
    "# Define the set of shifts for each day of the week, which must be contained in the set S of the model\n",
    "model.Shift_days = Set(model.Days, within=model.Shifts, initialize=lambda model, day: shifts_by_day[day])\n",
    "\n",
    "# Loop through\n",
    "for day in model.Days:\n",
    "    print(f'Shifts on {day}:', list(model.Shift_days[day].data()))"
   ]
  },
  {
   "cell_type": "markdown",
   "id": "d45dcd3e-534e-4186-b6f3-10129eb8d7d8",
   "metadata": {},
   "source": [
    "### Weeks"
   ]
  },
  {
   "cell_type": "code",
   "execution_count": 62,
   "id": "4a37b547-1835-4cfa-a5c7-469e6dcb0e4a",
   "metadata": {
    "scrolled": true,
    "ExecuteTime": {
     "end_time": "2024-04-03T14:28:04.287568Z",
     "start_time": "2024-04-03T14:28:04.284430Z"
    }
   },
   "outputs": [],
   "source": [
    "# Initialize the weeks in the planning horizon\n",
    "model.Weeks = Set(initialize=Weeks)\n",
    "\n",
    "# Initialize the days in each week w\n",
    "model.Week_days = Set(model.Weeks, initialize=lambda model, w: shifts_by_day.keys())\n"
   ]
  },
  {
   "cell_type": "code",
   "execution_count": 63,
   "id": "307f96b8-3cca-4d43-b3d8-9ae14ceb7cf2",
   "metadata": {
    "ExecuteTime": {
     "end_time": "2024-04-03T14:28:04.905767Z",
     "start_time": "2024-04-03T14:28:04.902578Z"
    }
   },
   "outputs": [
    {
     "name": "stdout",
     "output_type": "stream",
     "text": [
      "Week_days : Size=12, Index=Weeks, Ordered=Insertion\n",
      "    Key : Dimen : Domain : Size : Members\n",
      "      1 :     1 :    Any :    7 : {'Monday', 'Tuesday', 'Wednesday', 'Thursday', 'Friday', 'Saturday', 'Sunday'}\n",
      "      2 :     1 :    Any :    7 : {'Monday', 'Tuesday', 'Wednesday', 'Thursday', 'Friday', 'Saturday', 'Sunday'}\n",
      "      3 :     1 :    Any :    7 : {'Monday', 'Tuesday', 'Wednesday', 'Thursday', 'Friday', 'Saturday', 'Sunday'}\n",
      "      4 :     1 :    Any :    7 : {'Monday', 'Tuesday', 'Wednesday', 'Thursday', 'Friday', 'Saturday', 'Sunday'}\n",
      "      5 :     1 :    Any :    7 : {'Monday', 'Tuesday', 'Wednesday', 'Thursday', 'Friday', 'Saturday', 'Sunday'}\n",
      "      6 :     1 :    Any :    7 : {'Monday', 'Tuesday', 'Wednesday', 'Thursday', 'Friday', 'Saturday', 'Sunday'}\n",
      "      7 :     1 :    Any :    7 : {'Monday', 'Tuesday', 'Wednesday', 'Thursday', 'Friday', 'Saturday', 'Sunday'}\n",
      "      8 :     1 :    Any :    7 : {'Monday', 'Tuesday', 'Wednesday', 'Thursday', 'Friday', 'Saturday', 'Sunday'}\n",
      "      9 :     1 :    Any :    7 : {'Monday', 'Tuesday', 'Wednesday', 'Thursday', 'Friday', 'Saturday', 'Sunday'}\n",
      "     10 :     1 :    Any :    7 : {'Monday', 'Tuesday', 'Wednesday', 'Thursday', 'Friday', 'Saturday', 'Sunday'}\n",
      "     11 :     1 :    Any :    7 : {'Monday', 'Tuesday', 'Wednesday', 'Thursday', 'Friday', 'Saturday', 'Sunday'}\n",
      "     12 :     1 :    Any :    7 : {'Monday', 'Tuesday', 'Wednesday', 'Thursday', 'Friday', 'Saturday', 'Sunday'}\n"
     ]
    }
   ],
   "source": [
    "model.Week_days.display()"
   ]
  },
  {
   "cell_type": "markdown",
   "id": "0233ba7e-f9c0-4201-9bfe-a3ad9a335e65",
   "metadata": {},
   "source": [
    "### Days"
   ]
  },
  {
   "cell_type": "code",
   "execution_count": 64,
   "id": "d5c18781-06ac-458f-8030-1e8db0f2ab2a",
   "metadata": {
    "ExecuteTime": {
     "end_time": "2024-04-03T14:28:06.442351Z",
     "start_time": "2024-04-03T14:28:06.439716Z"
    }
   },
   "outputs": [
    {
     "name": "stdout",
     "output_type": "stream",
     "text": [
      "Sunday date: 2023-01-01T00:00:00\n",
      "Sunday date: 2023-01-08T00:00:00\n",
      "Sunday date: 2023-01-15T00:00:00\n",
      "Sunday date: 2023-01-22T00:00:00\n",
      "Sunday date: 2023-01-29T00:00:00\n",
      "Sunday date: 2023-02-05T00:00:00\n",
      "Sunday date: 2023-02-12T00:00:00\n",
      "Sunday date: 2023-02-19T00:00:00\n",
      "Sunday date: 2023-02-26T00:00:00\n",
      "Sunday date: 2023-03-05T00:00:00\n",
      "Sunday date: 2023-03-12T00:00:00\n",
      "Sunday date: 2023-03-19T00:00:00\n"
     ]
    }
   ],
   "source": [
    "# Define your planning horizon\n",
    "start_date = datetime(2023, 1, 1)  # Example start date (year, month, day)\n",
    "num_weeks = 12  # Number of weeks in your planning horizon\n",
    "\n",
    "# Generate a list of Sundays within the planning horizon\n",
    "sundays = [(start_date + timedelta(days=7 * week)).isoformat() for week in range(num_weeks)]\n",
    "\n",
    "# Define the set of Sundays in the planning horizon\n",
    "model.Days_SUN = Set(initialize=sundays)\n",
    "\n",
    "# Access the set elements to verify\n",
    "for sunday in model.Days_SUN:\n",
    "    print(f'Sunday date: {sunday}')"
   ]
  },
  {
   "cell_type": "markdown",
   "id": "90431cff-197e-4835-8f92-c07035e24ed2",
   "metadata": {},
   "source": [
    "### Time periods"
   ]
  },
  {
   "cell_type": "code",
   "execution_count": 12,
   "id": "992801ee-478c-42f2-bf5e-3d7f0b886ad7",
   "metadata": {
    "ExecuteTime": {
     "end_time": "2024-04-03T13:27:10.245034Z",
     "start_time": "2024-04-03T13:27:10.241480Z"
    }
   },
   "outputs": [],
   "source": [
    "\n",
    "# Define the set of half-hour periods within each day\n",
    "model.Time = Set(initialize=time_periods)"
   ]
  },
  {
   "cell_type": "code",
   "execution_count": 13,
   "id": "43ab9e55-f5ac-45a6-b06b-48b439cfa6d4",
   "metadata": {
    "ExecuteTime": {
     "end_time": "2024-04-03T13:27:10.529806Z",
     "start_time": "2024-04-03T13:27:10.527220Z"
    }
   },
   "outputs": [
    {
     "name": "stdout",
     "output_type": "stream",
     "text": [
      "Time : Size=1, Index=None, Ordered=Insertion\n",
      "    Key  : Dimen : Domain : Size : Members\n",
      "    None :     1 :    Any :   48 : {0, 1, 2, 3, 4, 5, 6, 7, 8, 9, 10, 11, 12, 13, 14, 15, 16, 17, 18, 19, 20, 21, 22, 23, 24, 25, 26, 27, 28, 29, 30, 31, 32, 33, 34, 35, 36, 37, 38, 39, 40, 41, 42, 43, 44, 45, 46, 47}\n"
     ]
    }
   ],
   "source": [
    "# Assuming 'model' is your Pyomo model\n",
    "model.Time.display()\n"
   ]
  },
  {
   "cell_type": "code",
   "outputs": [],
   "source": [],
   "metadata": {
    "collapsed": false,
    "ExecuteTime": {
     "end_time": "2024-04-03T13:27:10.612565Z",
     "start_time": "2024-04-03T13:27:10.610960Z"
    }
   },
   "id": "720a03eb13b5d0e9",
   "execution_count": 13
  },
  {
   "cell_type": "code",
   "outputs": [],
   "source": [],
   "metadata": {
    "collapsed": false
   },
   "id": "7fc2d763432c3064"
  }
 ],
 "metadata": {
  "kernelspec": {
   "display_name": "Python 3 (ipykernel)",
   "language": "python",
   "name": "python3"
  },
  "language_info": {
   "codemirror_mode": {
    "name": "ipython",
    "version": 3
   },
   "file_extension": ".py",
   "mimetype": "text/x-python",
   "name": "python",
   "nbconvert_exporter": "python",
   "pygments_lexer": "ipython3",
   "version": "3.11.7"
  }
 },
 "nbformat": 4,
 "nbformat_minor": 5
}
