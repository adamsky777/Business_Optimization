{
 "cells": [
  {
   "cell_type": "markdown",
   "source": [
    "### Shift Coverage with variable period length"
   ],
   "metadata": {
    "collapsed": false
   },
   "id": "116cd16f1ff3595"
  },
  {
   "cell_type": "code",
   "execution_count": 36,
   "id": "initial_id",
   "metadata": {
    "collapsed": true,
    "ExecuteTime": {
     "end_time": "2024-04-07T11:52:45.402539Z",
     "start_time": "2024-04-07T11:52:45.393606Z"
    }
   },
   "outputs": [
    {
     "data": {
      "text/plain": "True"
     },
     "execution_count": 36,
     "metadata": {},
     "output_type": "execute_result"
    }
   ],
   "source": [
    "def create_shifts(period_length):\n",
    "    \"\"\"\n",
    "    Args:\n",
    "        period_length: is the horizon's time periods in intervals 15, 30 or 60 min. \n",
    "        Based on the earliest start time and  min. max. duration we generate a set of shifts.\n",
    "    Returns: Set of shift with the start time of the interval and duration.\n",
    "\n",
    "    \"\"\"\n",
    "    day_length = 24 * 60 // period_length\n",
    "    earliest_start = 7 * 60 // period_length\n",
    "    minimum_duration = 6 * 60  // period_length\n",
    "    maximum_duration = 10 * 60 // period_length\n",
    "    shifts = []\n",
    "    for day_period in range(earliest_start, day_length):\n",
    "        for duration in range(minimum_duration, maximum_duration):\n",
    "            shifts.append((day_period, duration))\n",
    "            \n",
    "    for duration in range(minimum_duration, maximum_duration):\n",
    "            shifts.append((0, duration))\n",
    "            \n",
    "    return shifts\n",
    "\n",
    "def is_shift_covering_period(shift, period, day_length):\n",
    "    \"\"\"\n",
    "    Args:\n",
    "        shift: tuple (shift's start time, shift's duration)\n",
    "        period: to check if shift covers period \n",
    "        day_length: the length of the horizon.\n",
    "\n",
    "    Returns: True if shift covers period, False otherwise\n",
    "    \"\"\"\n",
    "    intervals = [(shift[0], min(shift[0] + shift[1], day_length) )]\n",
    "    \n",
    "    if shift[0] + shift[1] >= day_length:\n",
    "        intervals.append((0, shift[0] + shift[1] - day_length))\n",
    "        \n",
    "    for interval in intervals:\n",
    "        if period >= interval[0] and period < interval[1]:\n",
    "            return True\n",
    "        \n",
    "    return False\n",
    "\n",
    "shifts=create_shifts(60)\n",
    "\n",
    "is_shift_covering_period((7,8),14,len(shifts))"
   ]
  },
  {
   "cell_type": "code",
   "outputs": [
    {
     "data": {
      "text/plain": "(7, 6, 7, 7)"
     },
     "execution_count": 49,
     "metadata": {},
     "output_type": "execute_result"
    }
   ],
   "source": [
    "min(shifts[0] + shifts[1])"
   ],
   "metadata": {
    "collapsed": false,
    "ExecuteTime": {
     "end_time": "2024-04-07T12:05:32.374555Z",
     "start_time": "2024-04-07T12:05:32.371442Z"
    }
   },
   "id": "4b4cb7a4c9211f5a",
   "execution_count": 49
  },
  {
   "cell_type": "code",
   "outputs": [
    {
     "data": {
      "text/plain": "280"
     },
     "execution_count": 16,
     "metadata": {},
     "output_type": "execute_result"
    }
   ],
   "source": [
    "len(shifts)"
   ],
   "metadata": {
    "collapsed": false,
    "ExecuteTime": {
     "end_time": "2024-04-04T16:09:02.963598Z",
     "start_time": "2024-04-04T16:09:02.960425Z"
    }
   },
   "id": "bb83174671eaf473",
   "execution_count": 16
  },
  {
   "cell_type": "code",
   "outputs": [
    {
     "data": {
      "text/plain": "(7, 6)"
     },
     "execution_count": 37,
     "metadata": {},
     "output_type": "execute_result"
    }
   ],
   "source": [],
   "metadata": {
    "collapsed": false,
    "ExecuteTime": {
     "end_time": "2024-04-07T11:54:46.139994Z",
     "start_time": "2024-04-07T11:54:46.135990Z"
    }
   },
   "id": "b167be6724d3f899",
   "execution_count": 37
  },
  {
   "cell_type": "code",
   "outputs": [],
   "source": [],
   "metadata": {
    "collapsed": false
   },
   "id": "a96fe40e8d015e51"
  }
 ],
 "metadata": {
  "kernelspec": {
   "display_name": "Python 3",
   "language": "python",
   "name": "python3"
  },
  "language_info": {
   "codemirror_mode": {
    "name": "ipython",
    "version": 2
   },
   "file_extension": ".py",
   "mimetype": "text/x-python",
   "name": "python",
   "nbconvert_exporter": "python",
   "pygments_lexer": "ipython2",
   "version": "2.7.6"
  }
 },
 "nbformat": 4,
 "nbformat_minor": 5
}
