{
 "cells": [
  {
   "cell_type": "code",
   "execution_count": 16,
   "id": "initial_id",
   "metadata": {
    "collapsed": true,
    "ExecuteTime": {
     "end_time": "2024-04-07T14:27:34.973450Z",
     "start_time": "2024-04-07T14:27:34.969547Z"
    }
   },
   "outputs": [],
   "source": [
    "import pyomo as pyo\n",
    "from pyomo.environ import *\n",
    "import numpy as np\n",
    "from datetime import datetime, timedelta\n",
    "import pandas as pd\n",
    "from shift_and_coverage import create_shifts, is_shift_covering_period"
   ]
  },
  {
   "cell_type": "code",
   "outputs": [
    {
     "data": {
      "text/plain": "['emp0',\n 'emp1',\n 'emp2',\n 'emp3',\n 'emp4',\n 'emp5',\n 'emp6',\n 'emp7',\n 'emp8',\n 'emp9',\n 'emp10',\n 'emp11',\n 'emp12']"
     },
     "execution_count": 80,
     "metadata": {},
     "output_type": "execute_result"
    }
   ],
   "source": [
    "employee_count = 13\n",
    "employee_ids = ['emp{}'.format(i) for i in range(employee_count)]\n",
    "employee_ids"
   ],
   "metadata": {
    "collapsed": false,
    "ExecuteTime": {
     "end_time": "2024-04-07T14:58:47.977573Z",
     "start_time": "2024-04-07T14:58:47.972685Z"
    }
   },
   "id": "96ae797a6ab29df0",
   "execution_count": 80
  },
  {
   "cell_type": "markdown",
   "source": [
    "### Set of days in the planning horizon & Time periods\n",
    "**Intervals_in_horizon is the Set of time periods 1....48 intervals in 30 min**\n",
    "**days in the horizon are the Set of days in the planning horizon**"
   ],
   "metadata": {
    "collapsed": false
   },
   "id": "a5d547cae81a37cd"
  },
  {
   "cell_type": "code",
   "outputs": [
    {
     "data": {
      "text/plain": "[0,\n 1,\n 2,\n 3,\n 4,\n 5,\n 6,\n 7,\n 8,\n 9,\n 10,\n 11,\n 12,\n 13,\n 14,\n 15,\n 16,\n 17,\n 18,\n 19,\n 20,\n 21,\n 22,\n 23]"
     },
     "execution_count": 81,
     "metadata": {},
     "output_type": "execute_result"
    }
   ],
   "source": [
    "weeks_in_horizon = 1 #weeks\n",
    "horizon_lenght = 1 * weeks_in_horizon \n",
    "period_length = 60\n",
    "day_length = 24 * 60 // period_length\n",
    "intervals_in_horizon = list(range(horizon_lenght * day_length))\n",
    "\n",
    "days_in_horizon = list(range(horizon_lenght))\n",
    "intervals_in_horizon"
   ],
   "metadata": {
    "collapsed": false,
    "ExecuteTime": {
     "end_time": "2024-04-07T14:58:48.286223Z",
     "start_time": "2024-04-07T14:58:48.282458Z"
    }
   },
   "id": "7b8ccf4eeeb3f070",
   "execution_count": 81
  },
  {
   "cell_type": "markdown",
   "source": [
    "### Create demand for each time period"
   ],
   "metadata": {
    "collapsed": false
   },
   "id": "f54a0978fc085dc8"
  },
  {
   "cell_type": "code",
   "outputs": [],
   "source": [
    "demand = {\n",
    "0: 4,\n",
    " 1: 3,\n",
    " 2: 3,\n",
    " 3: 2 ,\n",
    " 4: 1,\n",
    " 5: 1,\n",
    " 6: 1,\n",
    " 8: 1,\n",
    " 9: 1,\n",
    " 10: 2,\n",
    " 11: 2,\n",
    " 12: 2,\n",
    " 13: 2,\n",
    " 14: 1,\n",
    " 15: 1,\n",
    " 16: 2,\n",
    " 17: 2,\n",
    " 18: 2,\n",
    " 19: 2,\n",
    " 20: 2,\n",
    " 21: 2,\n",
    " 22: 3,\n",
    " 23: 4,\n",
    "}\n",
    "\n"
   ],
   "metadata": {
    "collapsed": false,
    "ExecuteTime": {
     "end_time": "2024-04-07T14:58:48.665395Z",
     "start_time": "2024-04-07T14:58:48.661803Z"
    }
   },
   "id": "a287682ed42470df",
   "execution_count": 82
  },
  {
   "cell_type": "markdown",
   "source": [
    "### Shift creation, create possible shifts with min and max duration"
   ],
   "metadata": {
    "collapsed": false
   },
   "id": "34f86d2f254b316b"
  },
  {
   "cell_type": "code",
   "outputs": [],
   "source": [
    "#shifts =create_shifts(60)\n",
    "shifts = [(6,10),(14,8),(22,10)]\n"
   ],
   "metadata": {
    "collapsed": false,
    "ExecuteTime": {
     "end_time": "2024-04-07T14:58:49.085466Z",
     "start_time": "2024-04-07T14:58:49.083086Z"
    }
   },
   "id": "2c26a3411132f126",
   "execution_count": 83
  },
  {
   "cell_type": "markdown",
   "source": [
    "### Pyomo Model"
   ],
   "metadata": {
    "collapsed": false
   },
   "id": "8426387094329d1"
  },
  {
   "cell_type": "code",
   "outputs": [
    {
     "name": "stdout",
     "output_type": "stream",
     "text": [
      "ERROR: Rule failed when generating expression for Constraint demand_constraint\n",
      "with index 7: KeyError: 7\n",
      "ERROR: Constructing component 'demand_constraint' from data=None failed:\n",
      "KeyError: 7\n"
     ]
    },
    {
     "ename": "KeyError",
     "evalue": "7",
     "output_type": "error",
     "traceback": [
      "\u001B[0;31m---------------------------------------------------------------------------\u001B[0m",
      "\u001B[0;31mKeyError\u001B[0m                                  Traceback (most recent call last)",
      "Cell \u001B[0;32mIn[89], line 21\u001B[0m\n\u001B[1;32m     17\u001B[0m     \u001B[38;5;28;01melse\u001B[39;00m:\n\u001B[1;32m     18\u001B[0m             \u001B[38;5;66;03m# If demand for this period is not defined, no constraint is needed\u001B[39;00m\n\u001B[1;32m     19\u001B[0m         \u001B[38;5;28;01mreturn\u001B[39;00m Constraint\u001B[38;5;241m.\u001B[39mSkip\n\u001B[0;32m---> 21\u001B[0m \u001B[43mmodel\u001B[49m\u001B[38;5;241;43m.\u001B[39;49m\u001B[43mdemand_constraint\u001B[49m \u001B[38;5;241m=\u001B[39m Constraint(model\u001B[38;5;241m.\u001B[39mT, rule\u001B[38;5;241m=\u001B[39mdemand_constraint_rule)\n\u001B[1;32m     23\u001B[0m \u001B[38;5;28;01mdef\u001B[39;00m \u001B[38;5;21mexclusive_shifts_constraint\u001B[39m(model, employee, time):\n\u001B[1;32m     24\u001B[0m     \u001B[38;5;28;01mreturn\u001B[39;00m \u001B[38;5;28msum\u001B[39m(model\u001B[38;5;241m.\u001B[39mx[employee, shift] \u001B[38;5;28;01mfor\u001B[39;00m shift \u001B[38;5;129;01min\u001B[39;00m model\u001B[38;5;241m.\u001B[39mS \u001B[38;5;28;01mif\u001B[39;00m is_shift_covering_period(shift, time, day_length)) \u001B[38;5;241m<\u001B[39m\u001B[38;5;241m=\u001B[39m \u001B[38;5;241m1\u001B[39m\n",
      "File \u001B[0;32m~/Documents/UNI/2024 Spring/Msc Thesis/Call_Center_Optimization/venv/lib/python3.11/site-packages/pyomo/core/base/block.py:580\u001B[0m, in \u001B[0;36m_BlockData.__setattr__\u001B[0;34m(self, name, val)\u001B[0m\n\u001B[1;32m    575\u001B[0m \u001B[38;5;28;01mif\u001B[39;00m name \u001B[38;5;129;01mnot\u001B[39;00m \u001B[38;5;129;01min\u001B[39;00m \u001B[38;5;28mself\u001B[39m\u001B[38;5;241m.\u001B[39m\u001B[38;5;18m__dict__\u001B[39m:\n\u001B[1;32m    576\u001B[0m     \u001B[38;5;28;01mif\u001B[39;00m \u001B[38;5;28misinstance\u001B[39m(val, Component):\n\u001B[1;32m    577\u001B[0m         \u001B[38;5;66;03m#\u001B[39;00m\n\u001B[1;32m    578\u001B[0m         \u001B[38;5;66;03m# Pyomo components are added with the add_component method.\u001B[39;00m\n\u001B[1;32m    579\u001B[0m         \u001B[38;5;66;03m#\u001B[39;00m\n\u001B[0;32m--> 580\u001B[0m         \u001B[38;5;28;43mself\u001B[39;49m\u001B[38;5;241;43m.\u001B[39;49m\u001B[43madd_component\u001B[49m\u001B[43m(\u001B[49m\u001B[43mname\u001B[49m\u001B[43m,\u001B[49m\u001B[43m \u001B[49m\u001B[43mval\u001B[49m\u001B[43m)\u001B[49m\n\u001B[1;32m    581\u001B[0m     \u001B[38;5;28;01melse\u001B[39;00m:\n\u001B[1;32m    582\u001B[0m         \u001B[38;5;66;03m#\u001B[39;00m\n\u001B[1;32m    583\u001B[0m         \u001B[38;5;66;03m# Other Python objects are added with the standard __setattr__\u001B[39;00m\n\u001B[1;32m    584\u001B[0m         \u001B[38;5;66;03m# method.\u001B[39;00m\n\u001B[1;32m    585\u001B[0m         \u001B[38;5;66;03m#\u001B[39;00m\n\u001B[1;32m    586\u001B[0m         \u001B[38;5;28msuper\u001B[39m(_BlockData, \u001B[38;5;28mself\u001B[39m)\u001B[38;5;241m.\u001B[39m\u001B[38;5;21m__setattr__\u001B[39m(name, val)\n",
      "File \u001B[0;32m~/Documents/UNI/2024 Spring/Msc Thesis/Call_Center_Optimization/venv/lib/python3.11/site-packages/pyomo/core/base/block.py:1185\u001B[0m, in \u001B[0;36m_BlockData.add_component\u001B[0;34m(self, name, val)\u001B[0m\n\u001B[1;32m   1177\u001B[0m     logger\u001B[38;5;241m.\u001B[39mdebug(\n\u001B[1;32m   1178\u001B[0m         \u001B[38;5;124m\"\u001B[39m\u001B[38;5;124mConstructing \u001B[39m\u001B[38;5;132;01m%s\u001B[39;00m\u001B[38;5;124m \u001B[39m\u001B[38;5;124m'\u001B[39m\u001B[38;5;132;01m%s\u001B[39;00m\u001B[38;5;124m'\u001B[39m\u001B[38;5;124m on \u001B[39m\u001B[38;5;132;01m%s\u001B[39;00m\u001B[38;5;124m from data=\u001B[39m\u001B[38;5;132;01m%s\u001B[39;00m\u001B[38;5;124m\"\u001B[39m,\n\u001B[1;32m   1179\u001B[0m         val\u001B[38;5;241m.\u001B[39m\u001B[38;5;18m__class__\u001B[39m\u001B[38;5;241m.\u001B[39m\u001B[38;5;18m__name__\u001B[39m,\n\u001B[0;32m   (...)\u001B[0m\n\u001B[1;32m   1182\u001B[0m         \u001B[38;5;28mstr\u001B[39m(data),\n\u001B[1;32m   1183\u001B[0m     )\n\u001B[1;32m   1184\u001B[0m \u001B[38;5;28;01mtry\u001B[39;00m:\n\u001B[0;32m-> 1185\u001B[0m     \u001B[43mval\u001B[49m\u001B[38;5;241;43m.\u001B[39;49m\u001B[43mconstruct\u001B[49m\u001B[43m(\u001B[49m\u001B[43mdata\u001B[49m\u001B[43m)\u001B[49m\n\u001B[1;32m   1186\u001B[0m \u001B[38;5;28;01mexcept\u001B[39;00m:\n\u001B[1;32m   1187\u001B[0m     err \u001B[38;5;241m=\u001B[39m sys\u001B[38;5;241m.\u001B[39mexc_info()[\u001B[38;5;241m1\u001B[39m]\n",
      "File \u001B[0;32m~/Documents/UNI/2024 Spring/Msc Thesis/Call_Center_Optimization/venv/lib/python3.11/site-packages/pyomo/core/base/constraint.py:806\u001B[0m, in \u001B[0;36mConstraint.construct\u001B[0;34m(self, data)\u001B[0m\n\u001B[1;32m    803\u001B[0m     \u001B[38;5;28;01melse\u001B[39;00m:\n\u001B[1;32m    804\u001B[0m         \u001B[38;5;66;03m# Bypass the index validation and create the member directly\u001B[39;00m\n\u001B[1;32m    805\u001B[0m         \u001B[38;5;28;01mfor\u001B[39;00m index \u001B[38;5;129;01min\u001B[39;00m \u001B[38;5;28mself\u001B[39m\u001B[38;5;241m.\u001B[39mindex_set():\n\u001B[0;32m--> 806\u001B[0m             \u001B[38;5;28mself\u001B[39m\u001B[38;5;241m.\u001B[39m_setitem_when_not_present(index, \u001B[43mrule\u001B[49m\u001B[43m(\u001B[49m\u001B[43mblock\u001B[49m\u001B[43m,\u001B[49m\u001B[43m \u001B[49m\u001B[43mindex\u001B[49m\u001B[43m)\u001B[49m)\n\u001B[1;32m    807\u001B[0m \u001B[38;5;28;01mexcept\u001B[39;00m \u001B[38;5;167;01mException\u001B[39;00m:\n\u001B[1;32m    808\u001B[0m     err \u001B[38;5;241m=\u001B[39m sys\u001B[38;5;241m.\u001B[39mexc_info()[\u001B[38;5;241m1\u001B[39m]\n",
      "File \u001B[0;32m~/Documents/UNI/2024 Spring/Msc Thesis/Call_Center_Optimization/venv/lib/python3.11/site-packages/pyomo/core/base/initializer.py:316\u001B[0m, in \u001B[0;36mIndexedCallInitializer.__call__\u001B[0;34m(self, parent, idx)\u001B[0m\n\u001B[1;32m    314\u001B[0m     \u001B[38;5;28;01mreturn\u001B[39;00m \u001B[38;5;28mself\u001B[39m\u001B[38;5;241m.\u001B[39m_fcn(parent, \u001B[38;5;241m*\u001B[39midx)\n\u001B[1;32m    315\u001B[0m \u001B[38;5;28;01melse\u001B[39;00m:\n\u001B[0;32m--> 316\u001B[0m     \u001B[38;5;28;01mreturn\u001B[39;00m \u001B[38;5;28;43mself\u001B[39;49m\u001B[38;5;241;43m.\u001B[39;49m\u001B[43m_fcn\u001B[49m\u001B[43m(\u001B[49m\u001B[43mparent\u001B[49m\u001B[43m,\u001B[49m\u001B[43m \u001B[49m\u001B[43midx\u001B[49m\u001B[43m)\u001B[49m\n",
      "Cell \u001B[0;32mIn[89], line 16\u001B[0m, in \u001B[0;36mdemand_constraint_rule\u001B[0;34m(model, time)\u001B[0m\n\u001B[1;32m     14\u001B[0m \u001B[38;5;28;01mdef\u001B[39;00m \u001B[38;5;21mdemand_constraint_rule\u001B[39m(model, time):\n\u001B[1;32m     15\u001B[0m     \u001B[38;5;28;01mif\u001B[39;00m time \u001B[38;5;129;01min\u001B[39;00m model\u001B[38;5;241m.\u001B[39mT: \n\u001B[0;32m---> 16\u001B[0m         \u001B[38;5;28;01mreturn\u001B[39;00m \u001B[38;5;28msum\u001B[39m(model\u001B[38;5;241m.\u001B[39mx[employee, shift] \u001B[38;5;28;01mfor\u001B[39;00m employee \u001B[38;5;129;01min\u001B[39;00m model\u001B[38;5;241m.\u001B[39mE \u001B[38;5;28;01mfor\u001B[39;00m shift \u001B[38;5;129;01min\u001B[39;00m model\u001B[38;5;241m.\u001B[39mS \u001B[38;5;28;01mif\u001B[39;00m is_shift_covering_period(shift, time, day_length)) \u001B[38;5;241m>\u001B[39m\u001B[38;5;241m=\u001B[39m \u001B[43mdemand\u001B[49m\u001B[43m[\u001B[49m\u001B[43mtime\u001B[49m\u001B[43m]\u001B[49m\n\u001B[1;32m     17\u001B[0m     \u001B[38;5;28;01melse\u001B[39;00m:\n\u001B[1;32m     18\u001B[0m             \u001B[38;5;66;03m# If demand for this period is not defined, no constraint is needed\u001B[39;00m\n\u001B[1;32m     19\u001B[0m         \u001B[38;5;28;01mreturn\u001B[39;00m Constraint\u001B[38;5;241m.\u001B[39mSkip\n",
      "\u001B[0;31mKeyError\u001B[0m: 7"
     ]
    }
   ],
   "source": [
    "# Define the Pyomo model\n",
    "model = ConcreteModel()\n",
    "\n",
    "# Sets\n",
    "model.E = Set(initialize=employee_ids)  # Set of employee IDs\n",
    "model.T = Set(initialize=intervals_in_horizon)  # Set of time periods\n",
    "model.S = Set(initialize=shifts)  # Set of possible shifts\n",
    "\n",
    "# Variables\n",
    "model.x = Var(model.E, model.S, domain=Binary) \n",
    "\n",
    "# Constraints\n",
    "def demand_constraint_rule(model, time):\n",
    "    if time in demand:\n",
    "        return sum(model.x[employee, shift] for employee in model.E for shift in model.S if is_shift_covering_period(shift, time, day_length)) >= demand[time]\n",
    "    else:\n",
    "        # If demand for this period is not defined, no constraint is needed\n",
    "        return Constraint.Skip\n",
    "\n",
    "model.demand_constraint = Constraint(model.T, rule=demand_constraint_rule)\n",
    "\n",
    "def exclusive_shifts_constraint(model, employee, time):\n",
    "    assigned_shifts = [shift for shift in model.S if (employee, shift) in model.x and value(model.x[employee, shift]) > 0.5 and shift[0] <= time < shift[0] + shift[1]]\n",
    "    \n",
    "    if len(assigned_shifts) <= 1:\n",
    "        return Constraint.Skip  # Skip constraint if employee is assigned to 0 or 1 shift\n",
    "\n",
    "    assigned_shift_starts = [shift[0] for shift in assigned_shifts]\n",
    "    assigned_shift_starts.sort()\n",
    "\n",
    "    for i in range(len(assigned_shift_starts) - 1):\n",
    "        if assigned_shift_starts[i] == assigned_shift_starts[i + 1]:  # Check if consecutive shifts start on the same day\n",
    "            return sum(model.x[employee, shift] for shift in assigned_shifts) <= 1\n",
    "\n",
    "    return Constraint.Skip  # No consecutive shifts starting on the same day\n",
    "\n",
    "model.exclusive_shifts_constraint = Constraint(model.E, model.T, rule=exclusive_shifts_constraint)\n",
    "\n",
    "\n",
    "\n",
    "model.obj = Objective(expr=1, sense=minimize)\n",
    "\n",
    "# Solve the model\n",
    "solver = SolverFactory('gurobi')\n",
    "results = solver.solve(model)\n",
    "\n",
    "# Print results\n",
    "if str(results.solver.termination_condition) == \"optimal\":\n",
    "    print(\"Solution found:\")\n",
    "    for employee in model.E:\n",
    "        for shift in model.S:\n",
    "            if value(model.x[employee, shift]) > 0.5:\n",
    "                print(f\"Assign {employee} to shift starting at {shift[0]} with duration {shift[1]}\")\n",
    "else:\n",
    "    print(\"No feasible solution found.\")\n"
   ],
   "metadata": {
    "collapsed": false,
    "ExecuteTime": {
     "end_time": "2024-04-07T15:05:08.348648Z",
     "start_time": "2024-04-07T15:05:08.284014Z"
    }
   },
   "id": "7c6b638009b1b76a",
   "execution_count": 89
  },
  {
   "cell_type": "code",
   "outputs": [
    {
     "ename": "NameError",
     "evalue": "name 'time' is not defined",
     "output_type": "error",
     "traceback": [
      "\u001B[0;31m---------------------------------------------------------------------------\u001B[0m",
      "\u001B[0;31mNameError\u001B[0m                                 Traceback (most recent call last)",
      "Cell \u001B[0;32mIn[88], line 1\u001B[0m\n\u001B[0;32m----> 1\u001B[0m \u001B[38;5;28;43msum\u001B[39;49m\u001B[43m(\u001B[49m\u001B[43mmodel\u001B[49m\u001B[38;5;241;43m.\u001B[39;49m\u001B[43mx\u001B[49m\u001B[43m[\u001B[49m\u001B[43memployee\u001B[49m\u001B[43m,\u001B[49m\u001B[43m \u001B[49m\u001B[43mshift\u001B[49m\u001B[43m]\u001B[49m\u001B[43m \u001B[49m\u001B[38;5;28;43;01mfor\u001B[39;49;00m\u001B[43m \u001B[49m\u001B[43mshift\u001B[49m\u001B[43m \u001B[49m\u001B[38;5;129;43;01min\u001B[39;49;00m\u001B[43m \u001B[49m\u001B[43mmodel\u001B[49m\u001B[38;5;241;43m.\u001B[39;49m\u001B[43mS\u001B[49m\u001B[43m \u001B[49m\u001B[38;5;28;43;01mif\u001B[39;49;00m\u001B[43m \u001B[49m\u001B[43mis_shift_covering_period\u001B[49m\u001B[43m(\u001B[49m\u001B[43mshift\u001B[49m\u001B[43m,\u001B[49m\u001B[43m \u001B[49m\u001B[43mtime\u001B[49m\u001B[43m,\u001B[49m\u001B[43m \u001B[49m\u001B[43mday_length\u001B[49m\u001B[43m)\u001B[49m\u001B[43m)\u001B[49m\n",
      "Cell \u001B[0;32mIn[88], line 1\u001B[0m, in \u001B[0;36m<genexpr>\u001B[0;34m(.0)\u001B[0m\n\u001B[0;32m----> 1\u001B[0m \u001B[38;5;28msum\u001B[39m(model\u001B[38;5;241m.\u001B[39mx[employee, shift] \u001B[38;5;28;01mfor\u001B[39;00m shift \u001B[38;5;129;01min\u001B[39;00m model\u001B[38;5;241m.\u001B[39mS \u001B[38;5;28;01mif\u001B[39;00m is_shift_covering_period(shift, \u001B[43mtime\u001B[49m, day_length))\n",
      "\u001B[0;31mNameError\u001B[0m: name 'time' is not defined"
     ]
    }
   ],
   "source": [
    " sum(model.x[employee, shift] for shift in model.S if is_shift_covering_period(shift, time, day_length))"
   ],
   "metadata": {
    "collapsed": false,
    "ExecuteTime": {
     "end_time": "2024-04-07T15:02:29.205482Z",
     "start_time": "2024-04-07T15:02:29.190210Z"
    }
   },
   "id": "514da2ff002307d",
   "execution_count": 88
  },
  {
   "cell_type": "code",
   "outputs": [],
   "source": [],
   "metadata": {
    "collapsed": false,
    "ExecuteTime": {
     "end_time": "2024-04-07T14:53:09.200650Z",
     "start_time": "2024-04-07T14:53:09.199207Z"
    }
   },
   "id": "f0c25c4edf4a7822",
   "execution_count": 72
  },
  {
   "cell_type": "code",
   "outputs": [
    {
     "name": "stdout",
     "output_type": "stream",
     "text": [
      "WARNING: Implicitly replacing the Component attribute\n",
      "exclusive_shifts_constraint (type=<class\n",
      "'pyomo.core.base.constraint.IndexedConstraint'>) on block unknown with a new\n",
      "Component (type=<class 'pyomo.core.base.constraint.IndexedConstraint'>). This\n",
      "is usually indicative of a modelling error. To avoid this warning, use\n",
      "block.del_component() and block.add_component().\n"
     ]
    },
    {
     "ename": "RuntimeError",
     "evalue": "Cannot add component 'exclusive_shifts_constraint_index' (type <class 'pyomo.core.base.set.SetProduct_OrderedSet'>) to block 'unknown': a component by that name (type <class 'pyomo.core.base.set.SetProduct_OrderedSet'>) is already defined.",
     "output_type": "error",
     "traceback": [
      "\u001B[0;31m---------------------------------------------------------------------------\u001B[0m",
      "\u001B[0;31mRuntimeError\u001B[0m                              Traceback (most recent call last)",
      "Cell \u001B[0;32mIn[73], line 5\u001B[0m\n\u001B[1;32m      1\u001B[0m \u001B[38;5;28;01mdef\u001B[39;00m \u001B[38;5;21mexclusive_shifts_constraint\u001B[39m(model, employee, time):\n\u001B[1;32m      2\u001B[0m     \u001B[38;5;66;03m# Employee 'e' cannot work two shifts simultaneously\u001B[39;00m\n\u001B[1;32m      3\u001B[0m     \u001B[38;5;28;01mreturn\u001B[39;00m \u001B[38;5;28msum\u001B[39m(model\u001B[38;5;241m.\u001B[39mx[employee, shift] \u001B[38;5;28;01mfor\u001B[39;00m shift \u001B[38;5;129;01min\u001B[39;00m model\u001B[38;5;241m.\u001B[39mS \u001B[38;5;28;01mif\u001B[39;00m is_shift_covering_period(shift, time, day_length)) \u001B[38;5;241m<\u001B[39m\u001B[38;5;241m=\u001B[39m \u001B[38;5;241m1\u001B[39m\n\u001B[0;32m----> 5\u001B[0m \u001B[43mmodel\u001B[49m\u001B[38;5;241;43m.\u001B[39;49m\u001B[43mexclusive_shifts_constraint\u001B[49m \u001B[38;5;241m=\u001B[39m Constraint(model\u001B[38;5;241m.\u001B[39mE, model\u001B[38;5;241m.\u001B[39mT, rule\u001B[38;5;241m=\u001B[39mexclusive_shifts_constraint)\n",
      "File \u001B[0;32m~/Documents/UNI/2024 Spring/Msc Thesis/Call_Center_Optimization/venv/lib/python3.11/site-packages/pyomo/core/base/block.py:610\u001B[0m, in \u001B[0;36m_BlockData.__setattr__\u001B[0;34m(self, name, val)\u001B[0m\n\u001B[1;32m    601\u001B[0m     logger\u001B[38;5;241m.\u001B[39mwarning(\n\u001B[1;32m    602\u001B[0m         \u001B[38;5;124m\"\u001B[39m\u001B[38;5;124mImplicitly replacing the Component attribute \u001B[39m\u001B[38;5;124m\"\u001B[39m\n\u001B[1;32m    603\u001B[0m         \u001B[38;5;124m\"\u001B[39m\u001B[38;5;132;01m%s\u001B[39;00m\u001B[38;5;124m (type=\u001B[39m\u001B[38;5;132;01m%s\u001B[39;00m\u001B[38;5;124m) on block \u001B[39m\u001B[38;5;132;01m%s\u001B[39;00m\u001B[38;5;124m with a new Component (type=\u001B[39m\u001B[38;5;132;01m%s\u001B[39;00m\u001B[38;5;124m).\u001B[39m\u001B[38;5;124m\"\u001B[39m\n\u001B[0;32m   (...)\u001B[0m\n\u001B[1;32m    607\u001B[0m         \u001B[38;5;241m%\u001B[39m (name, \u001B[38;5;28mtype\u001B[39m(\u001B[38;5;28mself\u001B[39m\u001B[38;5;241m.\u001B[39mcomponent(name)), \u001B[38;5;28mself\u001B[39m\u001B[38;5;241m.\u001B[39mname, \u001B[38;5;28mtype\u001B[39m(val))\n\u001B[1;32m    608\u001B[0m     )\n\u001B[1;32m    609\u001B[0m     \u001B[38;5;28mself\u001B[39m\u001B[38;5;241m.\u001B[39mdel_component(name)\n\u001B[0;32m--> 610\u001B[0m     \u001B[38;5;28;43mself\u001B[39;49m\u001B[38;5;241;43m.\u001B[39;49m\u001B[43madd_component\u001B[49m\u001B[43m(\u001B[49m\u001B[43mname\u001B[49m\u001B[43m,\u001B[49m\u001B[43m \u001B[49m\u001B[43mval\u001B[49m\u001B[43m)\u001B[49m\n\u001B[1;32m    611\u001B[0m \u001B[38;5;28;01melse\u001B[39;00m:\n\u001B[1;32m    612\u001B[0m     \u001B[38;5;66;03m#\u001B[39;00m\n\u001B[1;32m    613\u001B[0m     \u001B[38;5;66;03m# The incoming value is not a component, so we set the\u001B[39;00m\n\u001B[0;32m   (...)\u001B[0m\n\u001B[1;32m    620\u001B[0m     \u001B[38;5;66;03m# generated while setting the value.\u001B[39;00m\n\u001B[1;32m    621\u001B[0m     \u001B[38;5;66;03m#\u001B[39;00m\n\u001B[1;32m    622\u001B[0m     \u001B[38;5;28;01mtry\u001B[39;00m:\n",
      "File \u001B[0;32m~/Documents/UNI/2024 Spring/Msc Thesis/Call_Center_Optimization/venv/lib/python3.11/site-packages/pyomo/core/base/block.py:1078\u001B[0m, in \u001B[0;36m_BlockData.add_component\u001B[0;34m(self, name, val)\u001B[0m\n\u001B[1;32m   1067\u001B[0m val\u001B[38;5;241m.\u001B[39m_name \u001B[38;5;241m=\u001B[39m name\n\u001B[1;32m   1068\u001B[0m \u001B[38;5;66;03m#\u001B[39;00m\n\u001B[1;32m   1069\u001B[0m \u001B[38;5;66;03m# We want to add the temporary / implicit sets first so that\u001B[39;00m\n\u001B[1;32m   1070\u001B[0m \u001B[38;5;66;03m# they get constructed before this component\u001B[39;00m\n\u001B[0;32m   (...)\u001B[0m\n\u001B[1;32m   1076\u001B[0m \u001B[38;5;66;03m# components.\u001B[39;00m\n\u001B[1;32m   1077\u001B[0m \u001B[38;5;66;03m#\u001B[39;00m\n\u001B[0;32m-> 1078\u001B[0m \u001B[38;5;28;43mself\u001B[39;49m\u001B[38;5;241;43m.\u001B[39;49m\u001B[43m_add_implicit_sets\u001B[49m\u001B[43m(\u001B[49m\u001B[43mval\u001B[49m\u001B[43m)\u001B[49m\n\u001B[1;32m   1079\u001B[0m \u001B[38;5;66;03m#\u001B[39;00m\n\u001B[1;32m   1080\u001B[0m \u001B[38;5;66;03m# Add the component to the underlying Component store\u001B[39;00m\n\u001B[1;32m   1081\u001B[0m \u001B[38;5;66;03m#\u001B[39;00m\n\u001B[1;32m   1082\u001B[0m _new_idx \u001B[38;5;241m=\u001B[39m \u001B[38;5;28mlen\u001B[39m(\u001B[38;5;28mself\u001B[39m\u001B[38;5;241m.\u001B[39m_decl_order)\n",
      "File \u001B[0;32m~/Documents/UNI/2024 Spring/Msc Thesis/Call_Center_Optimization/venv/lib/python3.11/site-packages/pyomo/core/base/block.py:870\u001B[0m, in \u001B[0;36m_BlockData._add_implicit_sets\u001B[0;34m(self, val)\u001B[0m\n\u001B[1;32m    863\u001B[0m             \u001B[38;5;28mself\u001B[39m\u001B[38;5;241m.\u001B[39madd_component(\u001B[38;5;124m\"\u001B[39m\u001B[38;5;132;01m%s\u001B[39;00m\u001B[38;5;124m_index_\u001B[39m\u001B[38;5;132;01m%d\u001B[39;00m\u001B[38;5;124m\"\u001B[39m \u001B[38;5;241m%\u001B[39m (val\u001B[38;5;241m.\u001B[39mlocal_name, ctr), tset)\n\u001B[1;32m    864\u001B[0m \u001B[38;5;28;01mif\u001B[39;00m (\n\u001B[1;32m    865\u001B[0m     \u001B[38;5;28mgetattr\u001B[39m(val, \u001B[38;5;124m'\u001B[39m\u001B[38;5;124m_index_set\u001B[39m\u001B[38;5;124m'\u001B[39m, \u001B[38;5;28;01mNone\u001B[39;00m) \u001B[38;5;129;01mis\u001B[39;00m \u001B[38;5;129;01mnot\u001B[39;00m \u001B[38;5;28;01mNone\u001B[39;00m\n\u001B[1;32m    866\u001B[0m     \u001B[38;5;129;01mand\u001B[39;00m \u001B[38;5;28misinstance\u001B[39m(val\u001B[38;5;241m.\u001B[39m_index_set, _SetDataBase)\n\u001B[1;32m    867\u001B[0m     \u001B[38;5;129;01mand\u001B[39;00m val\u001B[38;5;241m.\u001B[39m_index_set\u001B[38;5;241m.\u001B[39mparent_component()\u001B[38;5;241m.\u001B[39mparent_block() \u001B[38;5;129;01mis\u001B[39;00m \u001B[38;5;28;01mNone\u001B[39;00m\n\u001B[1;32m    868\u001B[0m     \u001B[38;5;129;01mand\u001B[39;00m \u001B[38;5;129;01mnot\u001B[39;00m \u001B[38;5;28misinstance\u001B[39m(val\u001B[38;5;241m.\u001B[39m_index_set\u001B[38;5;241m.\u001B[39mparent_component(), GlobalSetBase)\n\u001B[1;32m    869\u001B[0m ):\n\u001B[0;32m--> 870\u001B[0m     \u001B[38;5;28;43mself\u001B[39;49m\u001B[38;5;241;43m.\u001B[39;49m\u001B[43madd_component\u001B[49m\u001B[43m(\u001B[49m\n\u001B[1;32m    871\u001B[0m \u001B[43m        \u001B[49m\u001B[38;5;124;43m\"\u001B[39;49m\u001B[38;5;132;43;01m%s\u001B[39;49;00m\u001B[38;5;124;43m_index\u001B[39;49m\u001B[38;5;124;43m\"\u001B[39;49m\u001B[43m \u001B[49m\u001B[38;5;241;43m%\u001B[39;49m\u001B[43m \u001B[49m\u001B[43m(\u001B[49m\u001B[43mval\u001B[49m\u001B[38;5;241;43m.\u001B[39;49m\u001B[43mlocal_name\u001B[49m\u001B[43m,\u001B[49m\u001B[43m)\u001B[49m\u001B[43m,\u001B[49m\u001B[43m \u001B[49m\u001B[43mval\u001B[49m\u001B[38;5;241;43m.\u001B[39;49m\u001B[43m_index_set\u001B[49m\u001B[38;5;241;43m.\u001B[39;49m\u001B[43mparent_component\u001B[49m\u001B[43m(\u001B[49m\u001B[43m)\u001B[49m\n\u001B[1;32m    872\u001B[0m \u001B[43m    \u001B[49m\u001B[43m)\u001B[49m\n\u001B[1;32m    873\u001B[0m \u001B[38;5;28;01mif\u001B[39;00m (\n\u001B[1;32m    874\u001B[0m     \u001B[38;5;28mgetattr\u001B[39m(val, \u001B[38;5;124m'\u001B[39m\u001B[38;5;124minitialize\u001B[39m\u001B[38;5;124m'\u001B[39m, \u001B[38;5;28;01mNone\u001B[39;00m) \u001B[38;5;129;01mis\u001B[39;00m \u001B[38;5;129;01mnot\u001B[39;00m \u001B[38;5;28;01mNone\u001B[39;00m\n\u001B[1;32m    875\u001B[0m     \u001B[38;5;129;01mand\u001B[39;00m \u001B[38;5;28misinstance\u001B[39m(val\u001B[38;5;241m.\u001B[39minitialize, _SetDataBase)\n\u001B[1;32m    876\u001B[0m     \u001B[38;5;129;01mand\u001B[39;00m val\u001B[38;5;241m.\u001B[39minitialize\u001B[38;5;241m.\u001B[39mparent_component()\u001B[38;5;241m.\u001B[39mparent_block() \u001B[38;5;129;01mis\u001B[39;00m \u001B[38;5;28;01mNone\u001B[39;00m\n\u001B[1;32m    877\u001B[0m     \u001B[38;5;129;01mand\u001B[39;00m \u001B[38;5;129;01mnot\u001B[39;00m \u001B[38;5;28misinstance\u001B[39m(val\u001B[38;5;241m.\u001B[39minitialize\u001B[38;5;241m.\u001B[39mparent_component(), GlobalSetBase)\n\u001B[1;32m    878\u001B[0m ):\n\u001B[1;32m    879\u001B[0m     \u001B[38;5;28mself\u001B[39m\u001B[38;5;241m.\u001B[39madd_component(\n\u001B[1;32m    880\u001B[0m         \u001B[38;5;124m\"\u001B[39m\u001B[38;5;132;01m%s\u001B[39;00m\u001B[38;5;124m_index_init\u001B[39m\u001B[38;5;124m\"\u001B[39m \u001B[38;5;241m%\u001B[39m (val\u001B[38;5;241m.\u001B[39mlocal_name,), val\u001B[38;5;241m.\u001B[39minitialize\u001B[38;5;241m.\u001B[39mparent_component()\n\u001B[1;32m    881\u001B[0m     )\n",
      "File \u001B[0;32m~/Documents/UNI/2024 Spring/Msc Thesis/Call_Center_Optimization/venv/lib/python3.11/site-packages/pyomo/core/base/block.py:1007\u001B[0m, in \u001B[0;36m_BlockData.add_component\u001B[0;34m(self, name, val)\u001B[0m\n\u001B[1;32m   1002\u001B[0m     \u001B[38;5;28;01mraise\u001B[39;00m \u001B[38;5;167;01mValueError\u001B[39;00m(\n\u001B[1;32m   1003\u001B[0m         \u001B[38;5;124m\"\u001B[39m\u001B[38;5;124mAttempting to declare a block component using \u001B[39m\u001B[38;5;124m\"\u001B[39m\n\u001B[1;32m   1004\u001B[0m         \u001B[38;5;124m\"\u001B[39m\u001B[38;5;124mthe name of a reserved attribute:\u001B[39m\u001B[38;5;130;01m\\n\u001B[39;00m\u001B[38;5;130;01m\\t\u001B[39;00m\u001B[38;5;132;01m%s\u001B[39;00m\u001B[38;5;124m\"\u001B[39m \u001B[38;5;241m%\u001B[39m (name,)\n\u001B[1;32m   1005\u001B[0m     )\n\u001B[1;32m   1006\u001B[0m \u001B[38;5;28;01mif\u001B[39;00m name \u001B[38;5;129;01min\u001B[39;00m \u001B[38;5;28mself\u001B[39m\u001B[38;5;241m.\u001B[39m\u001B[38;5;18m__dict__\u001B[39m:\n\u001B[0;32m-> 1007\u001B[0m     \u001B[38;5;28;01mraise\u001B[39;00m \u001B[38;5;167;01mRuntimeError\u001B[39;00m(\n\u001B[1;32m   1008\u001B[0m         \u001B[38;5;124m\"\u001B[39m\u001B[38;5;124mCannot add component \u001B[39m\u001B[38;5;124m'\u001B[39m\u001B[38;5;132;01m%s\u001B[39;00m\u001B[38;5;124m'\u001B[39m\u001B[38;5;124m (type \u001B[39m\u001B[38;5;132;01m%s\u001B[39;00m\u001B[38;5;124m) to block \u001B[39m\u001B[38;5;124m'\u001B[39m\u001B[38;5;132;01m%s\u001B[39;00m\u001B[38;5;124m'\u001B[39m\u001B[38;5;124m: a \u001B[39m\u001B[38;5;124m\"\u001B[39m\n\u001B[1;32m   1009\u001B[0m         \u001B[38;5;124m\"\u001B[39m\u001B[38;5;124mcomponent by that name (type \u001B[39m\u001B[38;5;132;01m%s\u001B[39;00m\u001B[38;5;124m) is already defined.\u001B[39m\u001B[38;5;124m\"\u001B[39m\n\u001B[1;32m   1010\u001B[0m         \u001B[38;5;241m%\u001B[39m (name, \u001B[38;5;28mtype\u001B[39m(val), \u001B[38;5;28mself\u001B[39m\u001B[38;5;241m.\u001B[39mname, \u001B[38;5;28mtype\u001B[39m(\u001B[38;5;28mgetattr\u001B[39m(\u001B[38;5;28mself\u001B[39m, name)))\n\u001B[1;32m   1011\u001B[0m     )\n\u001B[1;32m   1012\u001B[0m \u001B[38;5;66;03m#\u001B[39;00m\n\u001B[1;32m   1013\u001B[0m \u001B[38;5;66;03m# Skip the add_component() logic if this is a\u001B[39;00m\n\u001B[1;32m   1014\u001B[0m \u001B[38;5;66;03m# component type that is suppressed.\u001B[39;00m\n\u001B[1;32m   1015\u001B[0m \u001B[38;5;66;03m#\u001B[39;00m\n\u001B[1;32m   1016\u001B[0m _component \u001B[38;5;241m=\u001B[39m \u001B[38;5;28mself\u001B[39m\u001B[38;5;241m.\u001B[39mparent_component()\n",
      "\u001B[0;31mRuntimeError\u001B[0m: Cannot add component 'exclusive_shifts_constraint_index' (type <class 'pyomo.core.base.set.SetProduct_OrderedSet'>) to block 'unknown': a component by that name (type <class 'pyomo.core.base.set.SetProduct_OrderedSet'>) is already defined."
     ]
    }
   ],
   "source": [
    "def exclusive_shifts_constraint(model, employee, time):\n",
    "    # Employee 'e' cannot work two shifts simultaneously\n",
    "    return sum(model.x[employee, shift] for shift in model.S if is_shift_covering_period(shift, time, day_length)) <= 1\n",
    "\n",
    "model.exclusive_shifts_constraint = Constraint(model.E, model.T, rule=exclusive_shifts_constraint)\n"
   ],
   "metadata": {
    "collapsed": false,
    "ExecuteTime": {
     "end_time": "2024-04-07T14:53:09.490617Z",
     "start_time": "2024-04-07T14:53:09.446869Z"
    }
   },
   "id": "3f71e7637ec8594f",
   "execution_count": 73
  },
  {
   "cell_type": "code",
   "outputs": [
    {
     "ename": "NameError",
     "evalue": "name 'time' is not defined",
     "output_type": "error",
     "traceback": [
      "\u001B[0;31m---------------------------------------------------------------------------\u001B[0m",
      "\u001B[0;31mNameError\u001B[0m                                 Traceback (most recent call last)",
      "Cell \u001B[0;32mIn[74], line 1\u001B[0m\n\u001B[0;32m----> 1\u001B[0m exclusive_shifts_constraint(model, employee, \u001B[43mtime\u001B[49m)\n",
      "\u001B[0;31mNameError\u001B[0m: name 'time' is not defined"
     ]
    }
   ],
   "source": [
    "exclusive_shifts_constraint(model, employee, time)"
   ],
   "metadata": {
    "collapsed": false,
    "ExecuteTime": {
     "end_time": "2024-04-07T14:53:09.742432Z",
     "start_time": "2024-04-07T14:53:09.732474Z"
    }
   },
   "id": "45d1975a169cb972",
   "execution_count": 74
  },
  {
   "cell_type": "code",
   "outputs": [
    {
     "data": {
      "text/plain": "True"
     },
     "execution_count": 75,
     "metadata": {},
     "output_type": "execute_result"
    }
   ],
   "source": [
    "value(sum(model.x[employee, shift] for shift in model.S if is_shift_covering_period(shift, 6, day_length)) <= 1)"
   ],
   "metadata": {
    "collapsed": false,
    "ExecuteTime": {
     "end_time": "2024-04-07T14:53:10.178142Z",
     "start_time": "2024-04-07T14:53:10.173722Z"
    }
   },
   "id": "5b1ce2bc065734ad",
   "execution_count": 75
  },
  {
   "cell_type": "code",
   "outputs": [
    {
     "data": {
      "text/plain": "False"
     },
     "execution_count": 76,
     "metadata": {},
     "output_type": "execute_result"
    }
   ],
   "source": [
    "is_shift_covering_period(shift,9, day_length)"
   ],
   "metadata": {
    "collapsed": false,
    "ExecuteTime": {
     "end_time": "2024-04-07T14:53:12.024887Z",
     "start_time": "2024-04-07T14:53:12.019970Z"
    }
   },
   "id": "e04a285555e588ad",
   "execution_count": 76
  },
  {
   "cell_type": "code",
   "outputs": [
    {
     "name": "stdout",
     "output_type": "stream",
     "text": [
      "(6, 10)\n",
      "(14, 8)\n",
      "(22, 10)\n"
     ]
    }
   ],
   "source": [
    "for  shift in model.S: print(shift) "
   ],
   "metadata": {
    "collapsed": false,
    "ExecuteTime": {
     "end_time": "2024-04-07T14:53:12.157766Z",
     "start_time": "2024-04-07T14:53:12.155132Z"
    }
   },
   "id": "737cbcf4c8d7cffb",
   "execution_count": 77
  },
  {
   "cell_type": "code",
   "outputs": [
    {
     "name": "stdout",
     "output_type": "stream",
     "text": [
      "x : Size=21, Index=x_index\n",
      "    Key              : Lower : Value : Upper : Fixed : Stale : Domain\n",
      "     ('emp0', 6, 10) :     0 :   0.0 :     1 : False : False : Binary\n",
      "     ('emp0', 14, 8) :     0 :   0.0 :     1 : False : False : Binary\n",
      "    ('emp0', 22, 10) :     0 :   1.0 :     1 : False : False : Binary\n",
      "     ('emp1', 6, 10) :     0 :   0.0 :     1 : False : False : Binary\n",
      "     ('emp1', 14, 8) :     0 :   1.0 :     1 : False : False : Binary\n",
      "    ('emp1', 22, 10) :     0 :   0.0 :     1 : False : False : Binary\n",
      "     ('emp2', 6, 10) :     0 :   1.0 :     1 : False : False : Binary\n",
      "     ('emp2', 14, 8) :     0 :   0.0 :     1 : False : False : Binary\n",
      "    ('emp2', 22, 10) :     0 :   0.0 :     1 : False : False : Binary\n",
      "     ('emp3', 6, 10) :     0 :   1.0 :     1 : False : False : Binary\n",
      "     ('emp3', 14, 8) :     0 :   0.0 :     1 : False : False : Binary\n",
      "    ('emp3', 22, 10) :     0 :   0.0 :     1 : False : False : Binary\n",
      "     ('emp4', 6, 10) :     0 :   0.0 :     1 : False : False : Binary\n",
      "     ('emp4', 14, 8) :     0 :   0.0 :     1 : False : False : Binary\n",
      "    ('emp4', 22, 10) :     0 :   1.0 :     1 : False : False : Binary\n",
      "     ('emp5', 6, 10) :     0 :   0.0 :     1 : False : False : Binary\n",
      "     ('emp5', 14, 8) :     0 :   0.0 :     1 : False : False : Binary\n",
      "    ('emp5', 22, 10) :     0 :   1.0 :     1 : False : False : Binary\n",
      "     ('emp6', 6, 10) :     0 :   0.0 :     1 : False : False : Binary\n",
      "     ('emp6', 14, 8) :     0 :   1.0 :     1 : False : False : Binary\n",
      "    ('emp6', 22, 10) :     0 :   1.0 :     1 : False : False : Binary\n"
     ]
    }
   ],
   "source": [
    "model.x.display()"
   ],
   "metadata": {
    "collapsed": false,
    "ExecuteTime": {
     "end_time": "2024-04-07T14:53:12.344257Z",
     "start_time": "2024-04-07T14:53:12.341064Z"
    }
   },
   "id": "7da55ad28d4870b5",
   "execution_count": 78
  },
  {
   "cell_type": "code",
   "outputs": [],
   "source": [],
   "metadata": {
    "collapsed": false
   },
   "id": "bd31c462e775c226"
  }
 ],
 "metadata": {
  "kernelspec": {
   "display_name": "Python 3",
   "language": "python",
   "name": "python3"
  },
  "language_info": {
   "codemirror_mode": {
    "name": "ipython",
    "version": 2
   },
   "file_extension": ".py",
   "mimetype": "text/x-python",
   "name": "python",
   "nbconvert_exporter": "python",
   "pygments_lexer": "ipython2",
   "version": "2.7.6"
  }
 },
 "nbformat": 4,
 "nbformat_minor": 5
}
