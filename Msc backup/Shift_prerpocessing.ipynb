{
 "cells": [
  {
   "cell_type": "code",
   "execution_count": 24,
   "id": "initial_id",
   "metadata": {
    "collapsed": true,
    "ExecuteTime": {
     "end_time": "2024-04-07T13:57:09.319894Z",
     "start_time": "2024-04-07T13:57:09.280949Z"
    }
   },
   "outputs": [],
   "source": [
    "import pyomo as pyo\n",
    "from pyomo.environ import *\n",
    "import numpy as np\n",
    "from datetime import datetime, timedelta\n",
    "import pandas as pd"
   ]
  },
  {
   "cell_type": "code",
   "outputs": [
    {
     "data": {
      "text/plain": "    Unnamed: 0 Shift_name  staff  start_num  end_num  len  \\\n0            0  Shift-156      4         13       27   14   \n1            1  Shift-170      4         27       41   14   \n2            2  Shift-561      4         41       61   20   \n3            3  Shift-440      4         61       79   18   \n4            4   Shift-42      4         79       91   12   \n5            5  Shift-455      4         91      109   18   \n6            6  Shift-458      4        109      127   18   \n7            7   Shift-64      4        127      139   12   \n8            8  Shift-473      4        139      157   18   \n9            9  Shift-476      4        157      175   18   \n10          10   Shift-86      4        175      187   12   \n11          11  Shift-491      4        187      205   18   \n12          12  Shift-494      4        205      223   18   \n13          13  Shift-108      4        223      235   12   \n14          14  Shift-635      4        235      255   20   \n15          15  Shift-388      4        255      271   16   \n16          16  Shift-130      4        271      283   12   \n17          17  Shift-653      4        283      303   20   \n18          18  Shift-406      4        303      319   16   \n19          19  Shift-152      4        319      331   12   \n20          20  Shift-545      4        331       13   18   \n\n                      start                      end  \n0   2023-01-01T05:45:00.000  2023-01-01T14:00:00.000  \n1   2023-01-01T13:15:00.000  2023-01-01T21:15:00.000  \n2   2023-01-01T20:30:00.000  2023-01-02T06:30:00.000  \n3   2023-01-02T05:45:00.000  2023-01-02T15:30:00.000  \n4   2023-01-02T14:45:00.000  2023-01-02T22:15:00.000  \n5   2023-01-02T21:30:00.000  2023-01-03T07:00:00.000  \n6   2023-01-03T06:15:00.000  2023-01-03T15:30:00.000  \n7   2023-01-03T14:45:00.000  2023-01-03T22:15:00.000  \n8   2023-01-03T21:30:00.000  2023-01-04T07:00:00.000  \n9   2023-01-04T06:15:00.000  2023-01-04T15:30:00.000  \n10  2023-01-04T14:45:00.000  2023-01-04T22:15:00.000  \n11  2023-01-04T21:30:00.000  2023-01-05T07:00:00.000  \n12  2023-01-05T06:15:00.000  2023-01-05T15:30:00.000  \n13  2023-01-05T14:45:00.000  2023-01-05T22:15:00.000  \n14  2023-01-05T21:30:00.000  2023-01-06T07:30:00.000  \n15  2023-01-06T06:45:00.000  2023-01-06T15:30:00.000  \n16  2023-01-06T14:45:00.000  2023-01-06T22:15:00.000  \n17  2023-01-06T21:30:00.000  2023-01-07T07:30:00.000  \n18  2023-01-07T06:45:00.000  2023-01-07T15:30:00.000  \n19  2023-01-07T14:45:00.000  2023-01-07T22:15:00.000  \n20  2023-01-07T21:30:00.000  2023-01-01T06:30:00.000  ",
      "text/html": "<div>\n<style scoped>\n    .dataframe tbody tr th:only-of-type {\n        vertical-align: middle;\n    }\n\n    .dataframe tbody tr th {\n        vertical-align: top;\n    }\n\n    .dataframe thead th {\n        text-align: right;\n    }\n</style>\n<table border=\"1\" class=\"dataframe\">\n  <thead>\n    <tr style=\"text-align: right;\">\n      <th></th>\n      <th>Unnamed: 0</th>\n      <th>Shift_name</th>\n      <th>staff</th>\n      <th>start_num</th>\n      <th>end_num</th>\n      <th>len</th>\n      <th>start</th>\n      <th>end</th>\n    </tr>\n  </thead>\n  <tbody>\n    <tr>\n      <th>0</th>\n      <td>0</td>\n      <td>Shift-156</td>\n      <td>4</td>\n      <td>13</td>\n      <td>27</td>\n      <td>14</td>\n      <td>2023-01-01T05:45:00.000</td>\n      <td>2023-01-01T14:00:00.000</td>\n    </tr>\n    <tr>\n      <th>1</th>\n      <td>1</td>\n      <td>Shift-170</td>\n      <td>4</td>\n      <td>27</td>\n      <td>41</td>\n      <td>14</td>\n      <td>2023-01-01T13:15:00.000</td>\n      <td>2023-01-01T21:15:00.000</td>\n    </tr>\n    <tr>\n      <th>2</th>\n      <td>2</td>\n      <td>Shift-561</td>\n      <td>4</td>\n      <td>41</td>\n      <td>61</td>\n      <td>20</td>\n      <td>2023-01-01T20:30:00.000</td>\n      <td>2023-01-02T06:30:00.000</td>\n    </tr>\n    <tr>\n      <th>3</th>\n      <td>3</td>\n      <td>Shift-440</td>\n      <td>4</td>\n      <td>61</td>\n      <td>79</td>\n      <td>18</td>\n      <td>2023-01-02T05:45:00.000</td>\n      <td>2023-01-02T15:30:00.000</td>\n    </tr>\n    <tr>\n      <th>4</th>\n      <td>4</td>\n      <td>Shift-42</td>\n      <td>4</td>\n      <td>79</td>\n      <td>91</td>\n      <td>12</td>\n      <td>2023-01-02T14:45:00.000</td>\n      <td>2023-01-02T22:15:00.000</td>\n    </tr>\n    <tr>\n      <th>5</th>\n      <td>5</td>\n      <td>Shift-455</td>\n      <td>4</td>\n      <td>91</td>\n      <td>109</td>\n      <td>18</td>\n      <td>2023-01-02T21:30:00.000</td>\n      <td>2023-01-03T07:00:00.000</td>\n    </tr>\n    <tr>\n      <th>6</th>\n      <td>6</td>\n      <td>Shift-458</td>\n      <td>4</td>\n      <td>109</td>\n      <td>127</td>\n      <td>18</td>\n      <td>2023-01-03T06:15:00.000</td>\n      <td>2023-01-03T15:30:00.000</td>\n    </tr>\n    <tr>\n      <th>7</th>\n      <td>7</td>\n      <td>Shift-64</td>\n      <td>4</td>\n      <td>127</td>\n      <td>139</td>\n      <td>12</td>\n      <td>2023-01-03T14:45:00.000</td>\n      <td>2023-01-03T22:15:00.000</td>\n    </tr>\n    <tr>\n      <th>8</th>\n      <td>8</td>\n      <td>Shift-473</td>\n      <td>4</td>\n      <td>139</td>\n      <td>157</td>\n      <td>18</td>\n      <td>2023-01-03T21:30:00.000</td>\n      <td>2023-01-04T07:00:00.000</td>\n    </tr>\n    <tr>\n      <th>9</th>\n      <td>9</td>\n      <td>Shift-476</td>\n      <td>4</td>\n      <td>157</td>\n      <td>175</td>\n      <td>18</td>\n      <td>2023-01-04T06:15:00.000</td>\n      <td>2023-01-04T15:30:00.000</td>\n    </tr>\n    <tr>\n      <th>10</th>\n      <td>10</td>\n      <td>Shift-86</td>\n      <td>4</td>\n      <td>175</td>\n      <td>187</td>\n      <td>12</td>\n      <td>2023-01-04T14:45:00.000</td>\n      <td>2023-01-04T22:15:00.000</td>\n    </tr>\n    <tr>\n      <th>11</th>\n      <td>11</td>\n      <td>Shift-491</td>\n      <td>4</td>\n      <td>187</td>\n      <td>205</td>\n      <td>18</td>\n      <td>2023-01-04T21:30:00.000</td>\n      <td>2023-01-05T07:00:00.000</td>\n    </tr>\n    <tr>\n      <th>12</th>\n      <td>12</td>\n      <td>Shift-494</td>\n      <td>4</td>\n      <td>205</td>\n      <td>223</td>\n      <td>18</td>\n      <td>2023-01-05T06:15:00.000</td>\n      <td>2023-01-05T15:30:00.000</td>\n    </tr>\n    <tr>\n      <th>13</th>\n      <td>13</td>\n      <td>Shift-108</td>\n      <td>4</td>\n      <td>223</td>\n      <td>235</td>\n      <td>12</td>\n      <td>2023-01-05T14:45:00.000</td>\n      <td>2023-01-05T22:15:00.000</td>\n    </tr>\n    <tr>\n      <th>14</th>\n      <td>14</td>\n      <td>Shift-635</td>\n      <td>4</td>\n      <td>235</td>\n      <td>255</td>\n      <td>20</td>\n      <td>2023-01-05T21:30:00.000</td>\n      <td>2023-01-06T07:30:00.000</td>\n    </tr>\n    <tr>\n      <th>15</th>\n      <td>15</td>\n      <td>Shift-388</td>\n      <td>4</td>\n      <td>255</td>\n      <td>271</td>\n      <td>16</td>\n      <td>2023-01-06T06:45:00.000</td>\n      <td>2023-01-06T15:30:00.000</td>\n    </tr>\n    <tr>\n      <th>16</th>\n      <td>16</td>\n      <td>Shift-130</td>\n      <td>4</td>\n      <td>271</td>\n      <td>283</td>\n      <td>12</td>\n      <td>2023-01-06T14:45:00.000</td>\n      <td>2023-01-06T22:15:00.000</td>\n    </tr>\n    <tr>\n      <th>17</th>\n      <td>17</td>\n      <td>Shift-653</td>\n      <td>4</td>\n      <td>283</td>\n      <td>303</td>\n      <td>20</td>\n      <td>2023-01-06T21:30:00.000</td>\n      <td>2023-01-07T07:30:00.000</td>\n    </tr>\n    <tr>\n      <th>18</th>\n      <td>18</td>\n      <td>Shift-406</td>\n      <td>4</td>\n      <td>303</td>\n      <td>319</td>\n      <td>16</td>\n      <td>2023-01-07T06:45:00.000</td>\n      <td>2023-01-07T15:30:00.000</td>\n    </tr>\n    <tr>\n      <th>19</th>\n      <td>19</td>\n      <td>Shift-152</td>\n      <td>4</td>\n      <td>319</td>\n      <td>331</td>\n      <td>12</td>\n      <td>2023-01-07T14:45:00.000</td>\n      <td>2023-01-07T22:15:00.000</td>\n    </tr>\n    <tr>\n      <th>20</th>\n      <td>20</td>\n      <td>Shift-545</td>\n      <td>4</td>\n      <td>331</td>\n      <td>13</td>\n      <td>18</td>\n      <td>2023-01-07T21:30:00.000</td>\n      <td>2023-01-01T06:30:00.000</td>\n    </tr>\n  </tbody>\n</table>\n</div>"
     },
     "execution_count": 25,
     "metadata": {},
     "output_type": "execute_result"
    }
   ],
   "source": [
    "shift_output = pd.read_csv(\"Shift_Scheduling_output.csv\")\n",
    "shift_output"
   ],
   "metadata": {
    "collapsed": false,
    "ExecuteTime": {
     "end_time": "2024-04-07T13:57:09.451892Z",
     "start_time": "2024-04-07T13:57:09.431726Z"
    }
   },
   "id": "eeb3b60996b202d1",
   "execution_count": 25
  },
  {
   "cell_type": "code",
   "outputs": [],
   "source": [
    "shift_output['start'] = pd.to_datetime(shift_output['start'])\n",
    "shift_output['end'] = pd.to_datetime(shift_output['end'])\n",
    "def assign_shift(start_time, end_time):\n",
    "    if start_time.hour >= 5 and start_time.hour < 13 and end_time.hour <= 17:\n",
    "        return 'Morning'\n",
    "    elif start_time.hour >= 13 and start_time.hour < 17 and end_time.hour <= 22 :\n",
    "        return 'Evening'\n",
    "    else:\n",
    "        return 'Night'\n",
    "\n",
    "shift_output['shift'] = shift_output.apply(lambda row: assign_shift(row['start'], row['end']),axis=1)\n"
   ],
   "metadata": {
    "collapsed": false,
    "ExecuteTime": {
     "end_time": "2024-04-07T13:57:09.617842Z",
     "start_time": "2024-04-07T13:57:09.597238Z"
    }
   },
   "id": "c0adede2492ead7f",
   "execution_count": 26
  },
  {
   "cell_type": "code",
   "outputs": [
    {
     "data": {
      "text/plain": "    Unnamed: 0 Shift_name  staff  start_num  end_num  len               start  \\\n0            0  Shift-156      4         13       27   14 2023-01-01 05:45:00   \n1            1  Shift-170      4         27       41   14 2023-01-01 13:15:00   \n2            2  Shift-561      4         41       61   20 2023-01-01 20:30:00   \n3            3  Shift-440      4         61       79   18 2023-01-02 05:45:00   \n4            4   Shift-42      4         79       91   12 2023-01-02 14:45:00   \n5            5  Shift-455      4         91      109   18 2023-01-02 21:30:00   \n6            6  Shift-458      4        109      127   18 2023-01-03 06:15:00   \n7            7   Shift-64      4        127      139   12 2023-01-03 14:45:00   \n8            8  Shift-473      4        139      157   18 2023-01-03 21:30:00   \n9            9  Shift-476      4        157      175   18 2023-01-04 06:15:00   \n10          10   Shift-86      4        175      187   12 2023-01-04 14:45:00   \n11          11  Shift-491      4        187      205   18 2023-01-04 21:30:00   \n12          12  Shift-494      4        205      223   18 2023-01-05 06:15:00   \n13          13  Shift-108      4        223      235   12 2023-01-05 14:45:00   \n14          14  Shift-635      4        235      255   20 2023-01-05 21:30:00   \n15          15  Shift-388      4        255      271   16 2023-01-06 06:45:00   \n16          16  Shift-130      4        271      283   12 2023-01-06 14:45:00   \n17          17  Shift-653      4        283      303   20 2023-01-06 21:30:00   \n18          18  Shift-406      4        303      319   16 2023-01-07 06:45:00   \n19          19  Shift-152      4        319      331   12 2023-01-07 14:45:00   \n20          20  Shift-545      4        331       13   18 2023-01-07 21:30:00   \n\n                   end    shift  \n0  2023-01-01 14:00:00  Morning  \n1  2023-01-01 21:15:00  Evening  \n2  2023-01-02 06:30:00    Night  \n3  2023-01-02 15:30:00  Morning  \n4  2023-01-02 22:15:00  Evening  \n5  2023-01-03 07:00:00    Night  \n6  2023-01-03 15:30:00  Morning  \n7  2023-01-03 22:15:00  Evening  \n8  2023-01-04 07:00:00    Night  \n9  2023-01-04 15:30:00  Morning  \n10 2023-01-04 22:15:00  Evening  \n11 2023-01-05 07:00:00    Night  \n12 2023-01-05 15:30:00  Morning  \n13 2023-01-05 22:15:00  Evening  \n14 2023-01-06 07:30:00    Night  \n15 2023-01-06 15:30:00  Morning  \n16 2023-01-06 22:15:00  Evening  \n17 2023-01-07 07:30:00    Night  \n18 2023-01-07 15:30:00  Morning  \n19 2023-01-07 22:15:00  Evening  \n20 2023-01-01 06:30:00    Night  ",
      "text/html": "<div>\n<style scoped>\n    .dataframe tbody tr th:only-of-type {\n        vertical-align: middle;\n    }\n\n    .dataframe tbody tr th {\n        vertical-align: top;\n    }\n\n    .dataframe thead th {\n        text-align: right;\n    }\n</style>\n<table border=\"1\" class=\"dataframe\">\n  <thead>\n    <tr style=\"text-align: right;\">\n      <th></th>\n      <th>Unnamed: 0</th>\n      <th>Shift_name</th>\n      <th>staff</th>\n      <th>start_num</th>\n      <th>end_num</th>\n      <th>len</th>\n      <th>start</th>\n      <th>end</th>\n      <th>shift</th>\n    </tr>\n  </thead>\n  <tbody>\n    <tr>\n      <th>0</th>\n      <td>0</td>\n      <td>Shift-156</td>\n      <td>4</td>\n      <td>13</td>\n      <td>27</td>\n      <td>14</td>\n      <td>2023-01-01 05:45:00</td>\n      <td>2023-01-01 14:00:00</td>\n      <td>Morning</td>\n    </tr>\n    <tr>\n      <th>1</th>\n      <td>1</td>\n      <td>Shift-170</td>\n      <td>4</td>\n      <td>27</td>\n      <td>41</td>\n      <td>14</td>\n      <td>2023-01-01 13:15:00</td>\n      <td>2023-01-01 21:15:00</td>\n      <td>Evening</td>\n    </tr>\n    <tr>\n      <th>2</th>\n      <td>2</td>\n      <td>Shift-561</td>\n      <td>4</td>\n      <td>41</td>\n      <td>61</td>\n      <td>20</td>\n      <td>2023-01-01 20:30:00</td>\n      <td>2023-01-02 06:30:00</td>\n      <td>Night</td>\n    </tr>\n    <tr>\n      <th>3</th>\n      <td>3</td>\n      <td>Shift-440</td>\n      <td>4</td>\n      <td>61</td>\n      <td>79</td>\n      <td>18</td>\n      <td>2023-01-02 05:45:00</td>\n      <td>2023-01-02 15:30:00</td>\n      <td>Morning</td>\n    </tr>\n    <tr>\n      <th>4</th>\n      <td>4</td>\n      <td>Shift-42</td>\n      <td>4</td>\n      <td>79</td>\n      <td>91</td>\n      <td>12</td>\n      <td>2023-01-02 14:45:00</td>\n      <td>2023-01-02 22:15:00</td>\n      <td>Evening</td>\n    </tr>\n    <tr>\n      <th>5</th>\n      <td>5</td>\n      <td>Shift-455</td>\n      <td>4</td>\n      <td>91</td>\n      <td>109</td>\n      <td>18</td>\n      <td>2023-01-02 21:30:00</td>\n      <td>2023-01-03 07:00:00</td>\n      <td>Night</td>\n    </tr>\n    <tr>\n      <th>6</th>\n      <td>6</td>\n      <td>Shift-458</td>\n      <td>4</td>\n      <td>109</td>\n      <td>127</td>\n      <td>18</td>\n      <td>2023-01-03 06:15:00</td>\n      <td>2023-01-03 15:30:00</td>\n      <td>Morning</td>\n    </tr>\n    <tr>\n      <th>7</th>\n      <td>7</td>\n      <td>Shift-64</td>\n      <td>4</td>\n      <td>127</td>\n      <td>139</td>\n      <td>12</td>\n      <td>2023-01-03 14:45:00</td>\n      <td>2023-01-03 22:15:00</td>\n      <td>Evening</td>\n    </tr>\n    <tr>\n      <th>8</th>\n      <td>8</td>\n      <td>Shift-473</td>\n      <td>4</td>\n      <td>139</td>\n      <td>157</td>\n      <td>18</td>\n      <td>2023-01-03 21:30:00</td>\n      <td>2023-01-04 07:00:00</td>\n      <td>Night</td>\n    </tr>\n    <tr>\n      <th>9</th>\n      <td>9</td>\n      <td>Shift-476</td>\n      <td>4</td>\n      <td>157</td>\n      <td>175</td>\n      <td>18</td>\n      <td>2023-01-04 06:15:00</td>\n      <td>2023-01-04 15:30:00</td>\n      <td>Morning</td>\n    </tr>\n    <tr>\n      <th>10</th>\n      <td>10</td>\n      <td>Shift-86</td>\n      <td>4</td>\n      <td>175</td>\n      <td>187</td>\n      <td>12</td>\n      <td>2023-01-04 14:45:00</td>\n      <td>2023-01-04 22:15:00</td>\n      <td>Evening</td>\n    </tr>\n    <tr>\n      <th>11</th>\n      <td>11</td>\n      <td>Shift-491</td>\n      <td>4</td>\n      <td>187</td>\n      <td>205</td>\n      <td>18</td>\n      <td>2023-01-04 21:30:00</td>\n      <td>2023-01-05 07:00:00</td>\n      <td>Night</td>\n    </tr>\n    <tr>\n      <th>12</th>\n      <td>12</td>\n      <td>Shift-494</td>\n      <td>4</td>\n      <td>205</td>\n      <td>223</td>\n      <td>18</td>\n      <td>2023-01-05 06:15:00</td>\n      <td>2023-01-05 15:30:00</td>\n      <td>Morning</td>\n    </tr>\n    <tr>\n      <th>13</th>\n      <td>13</td>\n      <td>Shift-108</td>\n      <td>4</td>\n      <td>223</td>\n      <td>235</td>\n      <td>12</td>\n      <td>2023-01-05 14:45:00</td>\n      <td>2023-01-05 22:15:00</td>\n      <td>Evening</td>\n    </tr>\n    <tr>\n      <th>14</th>\n      <td>14</td>\n      <td>Shift-635</td>\n      <td>4</td>\n      <td>235</td>\n      <td>255</td>\n      <td>20</td>\n      <td>2023-01-05 21:30:00</td>\n      <td>2023-01-06 07:30:00</td>\n      <td>Night</td>\n    </tr>\n    <tr>\n      <th>15</th>\n      <td>15</td>\n      <td>Shift-388</td>\n      <td>4</td>\n      <td>255</td>\n      <td>271</td>\n      <td>16</td>\n      <td>2023-01-06 06:45:00</td>\n      <td>2023-01-06 15:30:00</td>\n      <td>Morning</td>\n    </tr>\n    <tr>\n      <th>16</th>\n      <td>16</td>\n      <td>Shift-130</td>\n      <td>4</td>\n      <td>271</td>\n      <td>283</td>\n      <td>12</td>\n      <td>2023-01-06 14:45:00</td>\n      <td>2023-01-06 22:15:00</td>\n      <td>Evening</td>\n    </tr>\n    <tr>\n      <th>17</th>\n      <td>17</td>\n      <td>Shift-653</td>\n      <td>4</td>\n      <td>283</td>\n      <td>303</td>\n      <td>20</td>\n      <td>2023-01-06 21:30:00</td>\n      <td>2023-01-07 07:30:00</td>\n      <td>Night</td>\n    </tr>\n    <tr>\n      <th>18</th>\n      <td>18</td>\n      <td>Shift-406</td>\n      <td>4</td>\n      <td>303</td>\n      <td>319</td>\n      <td>16</td>\n      <td>2023-01-07 06:45:00</td>\n      <td>2023-01-07 15:30:00</td>\n      <td>Morning</td>\n    </tr>\n    <tr>\n      <th>19</th>\n      <td>19</td>\n      <td>Shift-152</td>\n      <td>4</td>\n      <td>319</td>\n      <td>331</td>\n      <td>12</td>\n      <td>2023-01-07 14:45:00</td>\n      <td>2023-01-07 22:15:00</td>\n      <td>Evening</td>\n    </tr>\n    <tr>\n      <th>20</th>\n      <td>20</td>\n      <td>Shift-545</td>\n      <td>4</td>\n      <td>331</td>\n      <td>13</td>\n      <td>18</td>\n      <td>2023-01-07 21:30:00</td>\n      <td>2023-01-01 06:30:00</td>\n      <td>Night</td>\n    </tr>\n  </tbody>\n</table>\n</div>"
     },
     "execution_count": 27,
     "metadata": {},
     "output_type": "execute_result"
    }
   ],
   "source": [
    "shift_output"
   ],
   "metadata": {
    "collapsed": false,
    "ExecuteTime": {
     "end_time": "2024-04-07T13:57:09.784011Z",
     "start_time": "2024-04-07T13:57:09.778278Z"
    }
   },
   "id": "3c7a9e30472a4267",
   "execution_count": 27
  },
  {
   "cell_type": "code",
   "outputs": [],
   "source": [
    "from shift_and_coverage import is_shift_covering_period"
   ],
   "metadata": {
    "collapsed": false,
    "ExecuteTime": {
     "end_time": "2024-04-07T13:57:10.015176Z",
     "start_time": "2024-04-07T13:57:10.012900Z"
    }
   },
   "id": "8ed21db95f28b65d",
   "execution_count": 28
  },
  {
   "cell_type": "code",
   "outputs": [
    {
     "data": {
      "text/plain": "True"
     },
     "execution_count": 29,
     "metadata": {},
     "output_type": "execute_result"
    }
   ],
   "source": [
    "is_shift_covering_period(shift_output['len'], 14, len(shift_output['len']))"
   ],
   "metadata": {
    "collapsed": false,
    "ExecuteTime": {
     "end_time": "2024-04-07T13:57:10.434803Z",
     "start_time": "2024-04-07T13:57:10.431725Z"
    }
   },
   "id": "b2f5aa1e3917adf3",
   "execution_count": 29
  },
  {
   "cell_type": "code",
   "outputs": [],
   "source": [],
   "metadata": {
    "collapsed": false
   },
   "id": "a0475ce4ce6566a6"
  }
 ],
 "metadata": {
  "kernelspec": {
   "display_name": "Python 3",
   "language": "python",
   "name": "python3"
  },
  "language_info": {
   "codemirror_mode": {
    "name": "ipython",
    "version": 2
   },
   "file_extension": ".py",
   "mimetype": "text/x-python",
   "name": "python",
   "nbconvert_exporter": "python",
   "pygments_lexer": "ipython2",
   "version": "2.7.6"
  }
 },
 "nbformat": 4,
 "nbformat_minor": 5
}
