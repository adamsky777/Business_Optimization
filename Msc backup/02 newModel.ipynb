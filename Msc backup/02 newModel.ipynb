{
 "cells": [
  {
   "cell_type": "code",
   "execution_count": 1,
   "id": "initial_id",
   "metadata": {
    "ExecuteTime": {
     "end_time": "2024-04-07T09:52:45.892074Z",
     "start_time": "2024-04-07T09:52:45.888110Z"
    },
    "collapsed": true
   },
   "outputs": [],
   "source": [
    "import pyomo as pyo\n",
    "from pyomo.environ import *\n",
    "import numpy as np\n",
    "from datetime import datetime, timedelta\n",
    "import pandas as pd\n",
    "from shift_and_coverage import create_shifts, is_shift_covering_period"
   ]
  },
  {
   "cell_type": "code",
   "execution_count": 8,
   "id": "96ae797a6ab29df0",
   "metadata": {
    "ExecuteTime": {
     "end_time": "2024-04-07T09:57:50.323158Z",
     "start_time": "2024-04-07T09:57:50.318430Z"
    },
    "collapsed": false
   },
   "outputs": [
    {
     "data": {
      "text/plain": [
       "['emp0', 'emp1', 'emp2', 'emp3', 'emp4', 'emp5', 'emp6']"
      ]
     },
     "execution_count": 8,
     "metadata": {},
     "output_type": "execute_result"
    }
   ],
   "source": [
    "employee_count = 7\n",
    "employee_ids = ['emp{}'.format(i) for i in range(employee_count)]\n",
    "employee_ids"
   ]
  },
  {
   "cell_type": "markdown",
   "id": "a5d547cae81a37cd",
   "metadata": {
    "collapsed": false
   },
   "source": [
    "### Set of days in the planning horizon & Time periods\n",
    "**Intervals_in_horizon is the Set of time periods 1....48 intervals in 30 min**\n",
    "**days in the horizon are the Set of days in the planning horizon**"
   ]
  },
  {
   "cell_type": "code",
   "execution_count": 9,
   "id": "7b8ccf4eeeb3f070",
   "metadata": {
    "ExecuteTime": {
     "end_time": "2024-04-07T09:57:51.388890Z",
     "start_time": "2024-04-07T09:57:51.382737Z"
    },
    "collapsed": false
   },
   "outputs": [
    {
     "data": {
      "text/plain": [
       "24"
      ]
     },
     "execution_count": 9,
     "metadata": {},
     "output_type": "execute_result"
    }
   ],
   "source": [
    "weeks_in_horizon = 1 #weeks\n",
    "horizon_lenght = 2 * weeks_in_horizon # days in horizon\n",
    "period_length = 60 # interval definition\n",
    "day_length = 24 * 60 // period_length    # intervals\n",
    "intervals_in_horizon = list(range(day_length)) # intervals in horizon\n",
    "\n",
    "days_in_horizon = list(range(horizon_lenght))\n",
    "day_length"
   ]
  },
  {
   "cell_type": "markdown",
   "id": "f54a0978fc085dc8",
   "metadata": {
    "collapsed": false
   },
   "source": [
    "### Create demand for each time period"
   ]
  },
  {
   "cell_type": "code",
   "execution_count": 4,
   "id": "a287682ed42470df",
   "metadata": {
    "ExecuteTime": {
     "end_time": "2024-04-07T09:57:51.706483Z",
     "start_time": "2024-04-07T09:57:51.703544Z"
    },
    "collapsed": false
   },
   "outputs": [],
   "source": [
    "demand = {\n",
    "    0: 4,\n",
    "    1: 3,\n",
    "    2: 3,\n",
    "    3: 2 ,\n",
    "    4: 1,\n",
    "    5: 1,\n",
    "    6: 1,\n",
    "    7: 1,\n",
    "    8: 1,\n",
    "    9: 1,\n",
    "    10: 2,\n",
    "    11: 2,\n",
    "    12: 2,\n",
    "    13: 2,\n",
    "    14: 1,\n",
    "    15: 1,\n",
    "    16: 2,\n",
    "    17: 2,\n",
    "    18: 2,\n",
    "    19: 2,\n",
    "    20: 2,\n",
    "    21: 2,\n",
    "    22: 3,\n",
    "    23: 4,\n",
    "    }"
   ]
  },
  {
   "cell_type": "code",
   "execution_count": null,
   "id": "1d0abbd3",
   "metadata": {},
   "outputs": [],
   "source": [
    "\"\"\" demand = {\n",
    "    0: {hour: demand_value for hour, demand_value in enumerate([4, 3, 3, 2, 1, 1, 1, 1, 1, 2, 2, 2, 2, 1, 1, 2, 2, 2, 2, 2, 2, 3, 4], start=1)},\n",
    "    1: {hour: demand_value for hour, demand_value in enumerate([4, 3, 3, 2, 1, 1, 1, 1, 1, 3, 3, 3, 3, 1, 1, 2, 2, 2, 2, 2, 2, 3, 5], start=1)}\n",
    "}\n",
    "print(\"Demand structure:\", demand)\n",
    " \"\"\""
   ]
  },
  {
   "cell_type": "markdown",
   "id": "34f86d2f254b316b",
   "metadata": {
    "collapsed": false
   },
   "source": [
    "### Shift creation, create possible shifts with min and max duration"
   ]
  },
  {
   "cell_type": "code",
   "execution_count": null,
   "id": "2c26a3411132f126",
   "metadata": {
    "ExecuteTime": {
     "end_time": "2024-04-07T09:57:52.079260Z",
     "start_time": "2024-04-07T09:57:52.074106Z"
    },
    "collapsed": false
   },
   "outputs": [],
   "source": [
    "shifts =create_shifts(60)\n",
    "shifts"
   ]
  },
  {
   "cell_type": "markdown",
   "id": "8426387094329d1",
   "metadata": {
    "collapsed": false
   },
   "source": [
    "### Pyomo Model"
   ]
  },
  {
   "cell_type": "code",
   "execution_count": 11,
   "id": "7c6b638009b1b76a",
   "metadata": {
    "ExecuteTime": {
     "end_time": "2024-04-07T11:19:52.025207Z",
     "start_time": "2024-04-07T11:19:51.842142Z"
    },
    "collapsed": false
   },
   "outputs": [],
   "source": [
    "# Define the Pyomo model\n",
    "model = ConcreteModel()\n",
    "\n",
    "# Sets\n",
    "model.E = Set(initialize=employee_ids)  # Set of employee IDs\n",
    "model.T = Set(initialize=intervals_in_horizon)  # Set of time periods\n",
    "#model.S = Set(initialize=create_shifts(period_length))  # Set of possible shifts\n",
    "# Validation: \n",
    "Shifts = [(6,10), (14,8), (21,10)]\n",
    "model.S = Set(initialize=Shifts)\n",
    "#model.D = Set(initialize=days_in_horizon)\n",
    "\n",
    "# Variables\n",
    "model.x = Var(model.E, model.S, domain=Binary)        # Employees assigned to work shift s \n"
   ]
  },
  {
   "cell_type": "code",
   "execution_count": 6,
   "id": "20b95286",
   "metadata": {},
   "outputs": [
    {
     "name": "stdout",
     "output_type": "stream",
     "text": [
      "E : Size=1, Index=None, Ordered=Insertion\n",
      "    Key  : Dimen : Domain : Size : Members\n",
      "    None :     1 :    Any :    8 : {'emp0', 'emp1', 'emp2', 'emp3', 'emp4', 'emp5', 'emp6', 'emp7'}\n",
      "Employees (E): None\n",
      "T : Size=1, Index=None, Ordered=Insertion\n",
      "    Key  : Dimen : Domain : Size : Members\n",
      "    None :     1 :    Any :   24 : {0, 1, 2, 3, 4, 5, 6, 7, 8, 9, 10, 11, 12, 13, 14, 15, 16, 17, 18, 19, 20, 21, 22, 23}\n",
      "Time Periods (T): None\n",
      "S : Size=1, Index=None, Ordered=Insertion\n",
      "    Key  : Dimen : Domain : Size : Members\n",
      "    None :     2 :    Any :    3 : {(6, 10), (14, 8), (21, 10)}\n",
      "Shifts (S): None\n"
     ]
    }
   ],
   "source": [
    "# Print\n",
    "print(\"Employees (E):\", model.E.pprint())\n",
    "print(\"Time Periods (T):\", model.T.pprint())\n",
    "print(\"Shifts (S):\", model.S.pprint())"
   ]
  },
  {
   "cell_type": "code",
   "execution_count": 12,
   "id": "48207e22",
   "metadata": {},
   "outputs": [
    {
     "name": "stdout",
     "output_type": "stream",
     "text": [
      "WARNING: Loading a SolverResults object with a warning status into\n",
      "model.name=\"unknown\";\n",
      "    - termination condition: infeasible\n",
      "    - message from solver: Model was proven to be infeasible.\n",
      "No feasible solution found.\n"
     ]
    }
   ],
   "source": [
    "\n",
    "# Constraints\n",
    "def demand_constraint_rule(model, time):\n",
    "    if time in model.T: \n",
    "        return sum(model.x[employee, shift] for employee in model.E for shift in model.S if is_shift_covering_period(shift, time, day_length)) >= demand[time]\n",
    "    else:\n",
    "            # If demand for this period is not defined, no constraint is needed\n",
    "        return Constraint.Skip\n",
    "    \n",
    "model.demand_constraint = Constraint(model.T, rule=demand_constraint_rule)\n",
    "\n",
    "def exclusive_shifts_constraint(model, employee, time):\n",
    "    return sum(model.x[employee, shift] for shift in model.S if is_shift_covering_period(shift, time, day_length)) <= 1\n",
    "\n",
    "model.exclusive_shifts_constraint = Constraint(model.E, model.T, rule=exclusive_shifts_constraint)\n",
    "\n",
    "model.obj = Objective(expr=1, sense=minimize)\n",
    "\n",
    "# Solve the model\n",
    "solver = SolverFactory('gurobi')\n",
    "results = solver.solve(model)\n",
    "\n",
    "# Print results\n",
    "\"\"\" if str(results.solver.termination_condition) == \"optimal\":\n",
    "    print(\"Solution found:\")\n",
    "    for employee in model.E:\n",
    "        for shift in model.S:\n",
    "            if value(model.x[employee, shift]):\n",
    "                print(f\"Assign {employee} to shift starting at {shift[0]} with duration {shift[1]}\")\n",
    "else:\n",
    "    print(\"No feasible solution found.\") \"\"\"\n",
    "\n",
    "\n",
    "if str(results.solver.termination_condition) == \"optimal\":\n",
    "    print(\"Solution found:\")\n",
    "    \n",
    "    # Initialize a dictionary to hold employees for each shift\n",
    "    shift_assignments = {}\n",
    "    for shift in model.S:\n",
    "        shift_assignments[shift] = []\n",
    "        \n",
    "    # Populate the dictionary with employees assigned to each shift\n",
    "    for employee in model.E:\n",
    "        for shift in model.S:\n",
    "            # Check if the employee is assigned to the shift\n",
    "            if value(model.x[employee, shift]) > 0.5:  # Assuming a binary variable, adjusted for numerical stability\n",
    "                shift_assignments[shift].append(employee)\n",
    "    \n",
    "    # Sort and print the assignments\n",
    "    for shift, employees in shift_assignments.items():\n",
    "        if employees:  # Only print shifts that have employees assigned\n",
    "            sorted_employees = sorted(employees)  # Sort employees for the current shift\n",
    "            print(f\"Shift starting at {shift[0]} with duration {shift[1]}: {', '.join(sorted_employees)}\")\n",
    "else:\n",
    "    print(\"No feasible solution found.\")\n"
   ]
  },
  {
   "cell_type": "code",
   "execution_count": null,
   "id": "02bc2b20",
   "metadata": {},
   "outputs": [],
   "source": [
    "print(shift_assignments)"
   ]
  },
  {
   "cell_type": "code",
   "execution_count": null,
   "id": "234e7765",
   "metadata": {},
   "outputs": [],
   "source": [
    "if str(results.solver.termination_condition) == \"optimal\":\n",
    "    print(\"Solution found:\")\n",
    "    \n",
    "    # Initialize a dictionary to hold employees for each shift\n",
    "    shift_assignments = {}\n",
    "    for shift in model.S:\n",
    "        shift_assignments[shift] = []\n",
    "        \n",
    "    # Populate the dictionary with employees assigned to each shift\n",
    "    for employee in model.E:\n",
    "        for shift in model.S:\n",
    "            # Check if the employee is assigned to the shift\n",
    "            if value(model.x[employee, shift]) > 0.5:  # Assuming a binary variable, adjusted for numerical stability\n",
    "                shift_assignments[shift].append(employee)\n",
    "    \n",
    "    # Sort and print the assignments\n",
    "    for shift, employees in shift_assignments.items():\n",
    "        if employees:  # Only print shifts that have employees assigned\n",
    "            sorted_employees = sorted(employees)  # Sort employees for the current shift\n",
    "            print(f\"Shift starting at {shift[0]} with duration {shift[1]}: {', '.join(sorted_employees)}\")\n",
    "else:\n",
    "    print(\"No feasible solution found.\")"
   ]
  },
  {
   "cell_type": "code",
   "execution_count": null,
   "id": "514da2ff002307d",
   "metadata": {
    "ExecuteTime": {
     "end_time": "2024-04-07T11:10:37.792306Z",
     "start_time": "2024-04-07T11:10:37.772936Z"
    },
    "collapsed": false
   },
   "outputs": [],
   "source": [
    "model.x.display()"
   ]
  },
  {
   "cell_type": "code",
   "execution_count": null,
   "id": "3f71e7637ec8594f",
   "metadata": {
    "collapsed": false
   },
   "outputs": [],
   "source": [
    "\"\"\" def exclusive_shifts_constraint(model, employee, time):\n",
    "    # Employee 'e' cannot work two shifts simultaneously\n",
    "    return sum(model.x[employee, shift] for shift in model.S if is_shift_covering_period(shift, time, day_length)) <= 1\n",
    "\n",
    "model.exclusive_shifts_constraint = Constraint(model.E, model.T, rule=exclusive_shifts_constraint) \"\"\"\n"
   ]
  }
 ],
 "metadata": {
  "kernelspec": {
   "display_name": "Python 3",
   "language": "python",
   "name": "python3"
  },
  "language_info": {
   "codemirror_mode": {
    "name": "ipython",
    "version": 3
   },
   "file_extension": ".py",
   "mimetype": "text/x-python",
   "name": "python",
   "nbconvert_exporter": "python",
   "pygments_lexer": "ipython3",
   "version": "3.11.7"
  }
 },
 "nbformat": 4,
 "nbformat_minor": 5
}
