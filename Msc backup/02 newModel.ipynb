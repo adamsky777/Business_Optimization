{
 "cells": [
  {
   "cell_type": "code",
   "execution_count": 1,
   "id": "initial_id",
   "metadata": {
    "collapsed": true,
    "ExecuteTime": {
     "end_time": "2024-04-07T15:03:17.948683Z",
     "start_time": "2024-04-07T15:03:17.439610Z"
    }
   },
   "outputs": [],
   "source": [
    "import pyomo as pyo\n",
    "from pyomo.environ import *\n",
    "import numpy as np\n",
    "from datetime import datetime, timedelta\n",
    "import pandas as pd\n",
    "from shift_and_coverage import create_shifts, is_shift_covering_period"
   ]
  },
  {
   "cell_type": "code",
   "execution_count": 13,
   "id": "96ae797a6ab29df0",
   "metadata": {
    "collapsed": false,
    "ExecuteTime": {
     "end_time": "2024-04-07T15:04:01.732319Z",
     "start_time": "2024-04-07T15:04:01.727802Z"
    }
   },
   "outputs": [
    {
     "data": {
      "text/plain": "['emp0', 'emp1', 'emp2', 'emp3', 'emp4', 'emp5', 'emp6', 'emp7']"
     },
     "execution_count": 13,
     "metadata": {},
     "output_type": "execute_result"
    }
   ],
   "source": [
    "employee_count = 8\n",
    "employee_ids = ['emp{}'.format(i) for i in range(employee_count)]\n",
    "employee_ids"
   ]
  },
  {
   "cell_type": "markdown",
   "id": "a5d547cae81a37cd",
   "metadata": {
    "collapsed": false
   },
   "source": [
    "### Set of days in the planning horizon & Time periods\n",
    "**Intervals_in_horizon is the Set of time periods 1....48 intervals in 30 min**\n",
    "**days in the horizon are the Set of days in the planning horizon**"
   ]
  },
  {
   "cell_type": "code",
   "execution_count": 14,
   "id": "7b8ccf4eeeb3f070",
   "metadata": {
    "collapsed": false,
    "ExecuteTime": {
     "end_time": "2024-04-07T15:04:02.049870Z",
     "start_time": "2024-04-07T15:04:02.046089Z"
    }
   },
   "outputs": [
    {
     "data": {
      "text/plain": "24"
     },
     "execution_count": 14,
     "metadata": {},
     "output_type": "execute_result"
    }
   ],
   "source": [
    "weeks_in_horizon = 1 #weeks\n",
    "horizon_lenght = 2 * weeks_in_horizon # days in horizon\n",
    "period_length = 60 # interval definition\n",
    "day_length = 24 * 60 // period_length    # intervals\n",
    "intervals_in_horizon = list(range(day_length)) # intervals in horizon\n",
    "\n",
    "days_in_horizon = list(range(horizon_lenght))\n",
    "day_length"
   ]
  },
  {
   "cell_type": "markdown",
   "id": "f54a0978fc085dc8",
   "metadata": {
    "collapsed": false
   },
   "source": [
    "### Create demand for each time period"
   ]
  },
  {
   "cell_type": "code",
   "execution_count": 15,
   "id": "a287682ed42470df",
   "metadata": {
    "collapsed": false,
    "ExecuteTime": {
     "end_time": "2024-04-07T15:04:02.319637Z",
     "start_time": "2024-04-07T15:04:02.317437Z"
    }
   },
   "outputs": [],
   "source": [
    "demand = {\n",
    "    0: 4,\n",
    "    1: 3,\n",
    "    2: 3,\n",
    "    3: 2 ,\n",
    "    4: 1,\n",
    "    5: 1,\n",
    "    6: 1,\n",
    "    7: 1,\n",
    "    8: 1,\n",
    "    9: 1,\n",
    "    10: 2,\n",
    "    11: 2,\n",
    "    12: 2,\n",
    "    13: 2,\n",
    "    14: 1,\n",
    "    15: 1,\n",
    "    16: 2,\n",
    "    17: 2,\n",
    "    18: 2,\n",
    "    19: 2,\n",
    "    20: 2,\n",
    "    21: 2,\n",
    "    22: 3,\n",
    "    23: 4,\n",
    "    }"
   ]
  },
  {
   "cell_type": "code",
   "execution_count": 16,
   "id": "1d0abbd3",
   "metadata": {
    "ExecuteTime": {
     "end_time": "2024-04-07T15:04:02.609790Z",
     "start_time": "2024-04-07T15:04:02.606741Z"
    }
   },
   "outputs": [
    {
     "data": {
      "text/plain": "' demand = {\\n    0: {hour: demand_value for hour, demand_value in enumerate([4, 3, 3, 2, 1, 1, 1, 1, 1, 2, 2, 2, 2, 1, 1, 2, 2, 2, 2, 2, 2, 3, 4], start=1)},\\n    1: {hour: demand_value for hour, demand_value in enumerate([4, 3, 3, 2, 1, 1, 1, 1, 1, 3, 3, 3, 3, 1, 1, 2, 2, 2, 2, 2, 2, 3, 5], start=1)}\\n}\\nprint(\"Demand structure:\", demand)\\n '"
     },
     "execution_count": 16,
     "metadata": {},
     "output_type": "execute_result"
    }
   ],
   "source": [
    "\"\"\" demand = {\n",
    "    0: {hour: demand_value for hour, demand_value in enumerate([4, 3, 3, 2, 1, 1, 1, 1, 1, 2, 2, 2, 2, 1, 1, 2, 2, 2, 2, 2, 2, 3, 4], start=1)},\n",
    "    1: {hour: demand_value for hour, demand_value in enumerate([4, 3, 3, 2, 1, 1, 1, 1, 1, 3, 3, 3, 3, 1, 1, 2, 2, 2, 2, 2, 2, 3, 5], start=1)}\n",
    "}\n",
    "print(\"Demand structure:\", demand)\n",
    " \"\"\""
   ]
  },
  {
   "cell_type": "markdown",
   "id": "34f86d2f254b316b",
   "metadata": {
    "collapsed": false
   },
   "source": [
    "### Shift creation, create possible shifts with min and max duration"
   ]
  },
  {
   "cell_type": "code",
   "execution_count": 17,
   "id": "2c26a3411132f126",
   "metadata": {
    "collapsed": false,
    "ExecuteTime": {
     "end_time": "2024-04-07T15:04:02.965170Z",
     "start_time": "2024-04-07T15:04:02.961753Z"
    }
   },
   "outputs": [
    {
     "data": {
      "text/plain": "[(7, 6),\n (7, 7),\n (7, 8),\n (7, 9),\n (8, 6),\n (8, 7),\n (8, 8),\n (8, 9),\n (9, 6),\n (9, 7),\n (9, 8),\n (9, 9),\n (10, 6),\n (10, 7),\n (10, 8),\n (10, 9),\n (11, 6),\n (11, 7),\n (11, 8),\n (11, 9),\n (12, 6),\n (12, 7),\n (12, 8),\n (12, 9),\n (13, 6),\n (13, 7),\n (13, 8),\n (13, 9),\n (14, 6),\n (14, 7),\n (14, 8),\n (14, 9),\n (15, 6),\n (15, 7),\n (15, 8),\n (15, 9),\n (16, 6),\n (16, 7),\n (16, 8),\n (16, 9),\n (17, 6),\n (17, 7),\n (17, 8),\n (17, 9),\n (18, 6),\n (18, 7),\n (18, 8),\n (18, 9),\n (19, 6),\n (19, 7),\n (19, 8),\n (19, 9),\n (20, 6),\n (20, 7),\n (20, 8),\n (20, 9),\n (21, 6),\n (21, 7),\n (21, 8),\n (21, 9),\n (22, 6),\n (22, 7),\n (22, 8),\n (22, 9),\n (23, 6),\n (23, 7),\n (23, 8),\n (23, 9),\n (0, 6),\n (0, 7),\n (0, 8),\n (0, 9)]"
     },
     "execution_count": 17,
     "metadata": {},
     "output_type": "execute_result"
    }
   ],
   "source": [
    "shifts =create_shifts(60)\n",
    "shifts"
   ]
  },
  {
   "cell_type": "markdown",
   "id": "8426387094329d1",
   "metadata": {
    "collapsed": false
   },
   "source": [
    "### Pyomo Model"
   ]
  },
  {
   "cell_type": "code",
   "execution_count": 18,
   "id": "7c6b638009b1b76a",
   "metadata": {
    "collapsed": false,
    "ExecuteTime": {
     "end_time": "2024-04-07T15:04:03.831470Z",
     "start_time": "2024-04-07T15:04:03.826467Z"
    }
   },
   "outputs": [],
   "source": [
    "# Define the Pyomo model\n",
    "model = ConcreteModel()\n",
    "\n",
    "# Sets\n",
    "model.E = Set(initialize=employee_ids)  # Set of employee IDs\n",
    "model.T = Set(initialize=intervals_in_horizon)  # Set of time periods\n",
    "#model.S = Set(initialize=create_shifts(period_length))  # Set of possible shifts\n",
    "# Validation: \n",
    "Shifts = [(6,10), (14,8), (21,10)]\n",
    "model.S = Set(initialize=Shifts)\n",
    "#model.D = Set(initialize=days_in_horizon)\n",
    "\n",
    "# Variables\n",
    "model.x = Var(model.E, model.S, domain=Binary)        # Employees assigned to work shift s \n"
   ]
  },
  {
   "cell_type": "code",
   "execution_count": 19,
   "id": "20b95286",
   "metadata": {
    "ExecuteTime": {
     "end_time": "2024-04-07T15:04:04.242353Z",
     "start_time": "2024-04-07T15:04:04.239962Z"
    }
   },
   "outputs": [
    {
     "name": "stdout",
     "output_type": "stream",
     "text": [
      "E : Size=1, Index=None, Ordered=Insertion\n",
      "    Key  : Dimen : Domain : Size : Members\n",
      "    None :     1 :    Any :    8 : {'emp0', 'emp1', 'emp2', 'emp3', 'emp4', 'emp5', 'emp6', 'emp7'}\n",
      "Employees (E): None\n",
      "T : Size=1, Index=None, Ordered=Insertion\n",
      "    Key  : Dimen : Domain : Size : Members\n",
      "    None :     1 :    Any :   24 : {0, 1, 2, 3, 4, 5, 6, 7, 8, 9, 10, 11, 12, 13, 14, 15, 16, 17, 18, 19, 20, 21, 22, 23}\n",
      "Time Periods (T): None\n",
      "S : Size=1, Index=None, Ordered=Insertion\n",
      "    Key  : Dimen : Domain : Size : Members\n",
      "    None :     2 :    Any :    3 : {(6, 10), (14, 8), (21, 10)}\n",
      "Shifts (S): None\n"
     ]
    }
   ],
   "source": [
    "# Print\n",
    "print(\"Employees (E):\", model.E.pprint())\n",
    "print(\"Time Periods (T):\", model.T.pprint())\n",
    "print(\"Shifts (S):\", model.S.pprint())"
   ]
  },
  {
   "cell_type": "code",
   "execution_count": 20,
   "id": "48207e22",
   "metadata": {
    "ExecuteTime": {
     "end_time": "2024-04-07T15:04:04.707941Z",
     "start_time": "2024-04-07T15:04:04.647806Z"
    }
   },
   "outputs": [
    {
     "name": "stdout",
     "output_type": "stream",
     "text": [
      "Solution found:\n",
      "Assign emp0 to shift starting at 6 with duration 10\n",
      "Assign emp1 to shift starting at 21 with duration 10\n",
      "Assign emp2 to shift starting at 14 with duration 8\n",
      "Assign emp3 to shift starting at 21 with duration 10\n",
      "Assign emp4 to shift starting at 21 with duration 10\n",
      "Assign emp5 to shift starting at 21 with duration 10\n",
      "Assign emp6 to shift starting at 6 with duration 10\n",
      "Assign emp7 to shift starting at 14 with duration 8\n"
     ]
    }
   ],
   "source": [
    "\n",
    "# Constraints\n",
    "def demand_constraint_rule(model, time):\n",
    "    if time in model.T: \n",
    "        return sum(model.x[employee, shift] for employee in model.E for shift in model.S if is_shift_covering_period(shift, time, day_length)) >= demand[time]\n",
    "    else:\n",
    "            # If demand for this period is not defined, no constraint is needed\n",
    "        return Constraint.Skip\n",
    "    \n",
    "model.demand_constraint = Constraint(model.T, rule=demand_constraint_rule)\n",
    "\n",
    "def exclusive_shifts_constraint(model, employee, time):\n",
    "    return sum(model.x[employee, shift] for shift in model.S if is_shift_covering_period(shift, time, day_length)) <= 1\n",
    "\n",
    "model.exclusive_shifts_constraint = Constraint(model.E, model.T, rule=exclusive_shifts_constraint)\n",
    "\n",
    "model.obj = Objective(expr=1, sense=minimize)\n",
    "\n",
    "# Solve the model\n",
    "solver = SolverFactory('gurobi')\n",
    "results = solver.solve(model)\n",
    "\n",
    "# Print results\n",
    "if str(results.solver.termination_condition) == \"optimal\":\n",
    "    print(\"Solution found:\")\n",
    "    for employee in model.E:\n",
    "        for shift in model.S:\n",
    "            if value(model.x[employee, shift]):\n",
    "                print(f\"Assign {employee} to shift starting at {shift[0]} with duration {shift[1]}\")\n",
    "else:\n",
    "    print(\"No feasible solution found.\")\n"
   ]
  },
  {
   "cell_type": "code",
   "execution_count": 11,
   "id": "234e7765",
   "metadata": {
    "ExecuteTime": {
     "end_time": "2024-04-07T15:03:48.956755Z",
     "start_time": "2024-04-07T15:03:48.953151Z"
    }
   },
   "outputs": [
    {
     "name": "stdout",
     "output_type": "stream",
     "text": [
      "T : Size=1, Index=None, Ordered=Insertion\n",
      "    Key  : Dimen : Domain : Size : Members\n",
      "    None :     1 :    Any :   24 : {0, 1, 2, 3, 4, 5, 6, 7, 8, 9, 10, 11, 12, 13, 14, 15, 16, 17, 18, 19, 20, 21, 22, 23}\n"
     ]
    }
   ],
   "source": [
    "model.T.display()"
   ]
  },
  {
   "cell_type": "code",
   "execution_count": 12,
   "id": "514da2ff002307d",
   "metadata": {
    "collapsed": false,
    "ExecuteTime": {
     "end_time": "2024-04-07T15:03:50.849299Z",
     "start_time": "2024-04-07T15:03:50.845280Z"
    }
   },
   "outputs": [
    {
     "name": "stdout",
     "output_type": "stream",
     "text": [
      "x : Size=21, Index=x_index\n",
      "    Key              : Lower : Value : Upper : Fixed : Stale : Domain\n",
      "     ('emp0', 6, 10) :     0 :  None :     1 : False :  True : Binary\n",
      "     ('emp0', 14, 8) :     0 :  None :     1 : False :  True : Binary\n",
      "    ('emp0', 21, 10) :     0 :  None :     1 : False :  True : Binary\n",
      "     ('emp1', 6, 10) :     0 :  None :     1 : False :  True : Binary\n",
      "     ('emp1', 14, 8) :     0 :  None :     1 : False :  True : Binary\n",
      "    ('emp1', 21, 10) :     0 :  None :     1 : False :  True : Binary\n",
      "     ('emp2', 6, 10) :     0 :  None :     1 : False :  True : Binary\n",
      "     ('emp2', 14, 8) :     0 :  None :     1 : False :  True : Binary\n",
      "    ('emp2', 21, 10) :     0 :  None :     1 : False :  True : Binary\n",
      "     ('emp3', 6, 10) :     0 :  None :     1 : False :  True : Binary\n",
      "     ('emp3', 14, 8) :     0 :  None :     1 : False :  True : Binary\n",
      "    ('emp3', 21, 10) :     0 :  None :     1 : False :  True : Binary\n",
      "     ('emp4', 6, 10) :     0 :  None :     1 : False :  True : Binary\n",
      "     ('emp4', 14, 8) :     0 :  None :     1 : False :  True : Binary\n",
      "    ('emp4', 21, 10) :     0 :  None :     1 : False :  True : Binary\n",
      "     ('emp5', 6, 10) :     0 :  None :     1 : False :  True : Binary\n",
      "     ('emp5', 14, 8) :     0 :  None :     1 : False :  True : Binary\n",
      "    ('emp5', 21, 10) :     0 :  None :     1 : False :  True : Binary\n",
      "     ('emp6', 6, 10) :     0 :  None :     1 : False :  True : Binary\n",
      "     ('emp6', 14, 8) :     0 :  None :     1 : False :  True : Binary\n",
      "    ('emp6', 21, 10) :     0 :  None :     1 : False :  True : Binary\n"
     ]
    }
   ],
   "source": [
    "model.x.display()"
   ]
  },
  {
   "cell_type": "code",
   "execution_count": null,
   "id": "3f71e7637ec8594f",
   "metadata": {
    "collapsed": false
   },
   "outputs": [],
   "source": [
    "\"\"\" def exclusive_shifts_constraint(model, employee, time):\n",
    "    # Employee 'e' cannot work two shifts simultaneously\n",
    "    return sum(model.x[employee, shift] for shift in model.S if is_shift_covering_period(shift, time, day_length)) <= 1\n",
    "\n",
    "model.exclusive_shifts_constraint = Constraint(model.E, model.T, rule=exclusive_shifts_constraint) \"\"\"\n"
   ]
  }
 ],
 "metadata": {
  "kernelspec": {
   "display_name": "Python 3",
   "language": "python",
   "name": "python3"
  },
  "language_info": {
   "codemirror_mode": {
    "name": "ipython",
    "version": 3
   },
   "file_extension": ".py",
   "mimetype": "text/x-python",
   "name": "python",
   "nbconvert_exporter": "python",
   "pygments_lexer": "ipython3",
   "version": "3.11.7"
  }
 },
 "nbformat": 4,
 "nbformat_minor": 5
}
